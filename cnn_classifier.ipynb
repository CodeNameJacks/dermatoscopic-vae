{
 "cells": [
  {
   "cell_type": "code",
   "execution_count": 119,
   "id": "1c44e9c7",
   "metadata": {},
   "outputs": [],
   "source": [
    "import matplotlib.pyplot as plt\n",
    "import numpy as np\n",
    "from tensorflow import keras\n",
    "import tensorflow as tf\n",
    "from tensorflow.keras import layers\n",
    "from tensorflow.keras import models\n",
    "from tensorflow.keras import preprocessing\n",
    "from tensorflow.keras.utils import to_categorical\n",
    "from tensorflow.keras.models import Sequential\n",
    "from tensorflow.keras.layers import Conv2D\n",
    "from tensorflow.keras.layers import MaxPooling2D\n",
    "from tensorflow.keras.layers import Dense\n",
    "from tensorflow.keras.layers import Flatten\n",
    "from tensorflow.keras.optimizers import SGD\n",
    "from tensorflow.keras import regularizers\n",
    "from keras.callbacks import EarlyStopping\n",
    "import numpy as np\n",
    "from sklearn.utils.class_weight import compute_class_weight"
   ]
  },
  {
   "cell_type": "code",
   "execution_count": 120,
   "id": "53f277b9",
   "metadata": {},
   "outputs": [],
   "source": [
    "import os\n",
    "import random\n",
    "from pathlib import Path\n",
    "import shutil\n",
    "import pandas as pd"
   ]
  },
  {
   "cell_type": "code",
   "execution_count": 121,
   "id": "32f884f7",
   "metadata": {},
   "outputs": [],
   "source": [
    "#VAE architecture and paramteres\n",
    "kernels = 2\n",
    "strides = 2\n",
    "latent_dim = 28\n",
    "filters = [32, 64, 128, 224, 512]\n",
    "input_shape = (224, 224, 3)\n",
    "last_conv_dim = int(input_shape[0] / (2 ** len(filters)))\n",
    "b_norm = 3\n",
    "#Batch Norm\n",
    "epsilon = 1e-5\n",
    "#spatial Classifier\n",
    "num_classes = 4\n",
    "#dataset\n",
    "ham_dataset_dir = 'ham_minified'\n",
    "batch_size = 48\n",
    "seed = 42\n",
    "#define early stopping paramter\n",
    "es = EarlyStopping(monitor='val_accuracy', mode='max', verbose=1, patience=5)"
   ]
  },
  {
   "cell_type": "code",
   "execution_count": 122,
   "id": "ed25346e",
   "metadata": {},
   "outputs": [],
   "source": [
    "ham_dataset_dir = 'ham_minified'\n",
    "nv_source_dir = 'nv_src'\n",
    "nv_test_num = 200\n",
    "nv_gen_num = 0\n",
    "batch_size = 48\n",
    "seed = 42"
   ]
  },
  {
   "cell_type": "markdown",
   "id": "55bcc164",
   "metadata": {},
   "source": [
    "### Combine True and Synthetic Data"
   ]
  },
  {
   "cell_type": "code",
   "execution_count": 123,
   "id": "7b854695",
   "metadata": {},
   "outputs": [],
   "source": [
    "images = list(os.walk(ham_dataset_dir + '/nv'))[0][2]\n",
    "for image_to_delete in images:\n",
    "    path = Path(f'{ham_dataset_dir}/nv/{image_to_delete}')\n",
    "    path.unlink(missing_ok=False)"
   ]
  },
  {
   "cell_type": "code",
   "execution_count": 124,
   "id": "3069dd8a",
   "metadata": {},
   "outputs": [],
   "source": [
    "images = list(os.walk(nv_source_dir + '/nv_true'))[0][2]\n",
    "nv_images = random.sample(images, nv_test_num)\n",
    "for true_image in nv_images:\n",
    "    shutil.copy(nv_source_dir + '/nv_true/' + true_image, ham_dataset_dir + '/nv/' + true_image)"
   ]
  },
  {
   "cell_type": "code",
   "execution_count": 125,
   "id": "1d97afbe",
   "metadata": {},
   "outputs": [],
   "source": [
    "images = list(os.walk(nv_source_dir + '/gen_data'))[0][2]\n",
    "gen_images = random.sample(images, nv_gen_num)\n",
    "for gen_image in gen_images:\n",
    "    shutil.copy(nv_source_dir + '/gen_data/' + gen_image, ham_dataset_dir + '/nv/' + gen_image)"
   ]
  },
  {
   "cell_type": "markdown",
   "id": "e06150d9",
   "metadata": {},
   "source": [
    "### Data Processing & Class Weights"
   ]
  },
  {
   "cell_type": "code",
   "execution_count": 126,
   "id": "1f308781",
   "metadata": {},
   "outputs": [
    {
     "name": "stdout",
     "output_type": "stream",
     "text": [
      "Found 2926 files belonging to 4 classes.\n",
      "Using 877 files for validation.\n",
      "Found 2926 files belonging to 4 classes.\n",
      "Using 877 files for validation.\n"
     ]
    }
   ],
   "source": [
    "#load and split datatse\n",
    "train_ds = keras.preprocessing.image_dataset_from_directory(ham_dataset_dir, validation_split=0.3, color_mode='rgb',\n",
    "                                                          labels='inferred', label_mode='categorical', shuffle=True, subset='validation', image_size=(224, 224),\n",
    "                                                          batch_size=batch_size, seed=seed)\n",
    "\n",
    "val_ds = keras.preprocessing.image_dataset_from_directory(ham_dataset_dir, validation_split=0.3, color_mode='rgb',\n",
    "                                                          labels='inferred', label_mode='categorical', shuffle=True, subset='validation', image_size=(224, 224),\n",
    "                                                          batch_size=batch_size, seed=seed)"
   ]
  },
  {
   "cell_type": "code",
   "execution_count": 127,
   "id": "be4998d3",
   "metadata": {},
   "outputs": [
    {
     "name": "stdout",
     "output_type": "stream",
     "text": [
      "Found 2926 files belonging to 4 classes.\n",
      "Using 2049 files for training.\n"
     ]
    }
   ],
   "source": [
    "classes = train_ds.class_names\n",
    "train_ds_single_batch = keras.preprocessing.image_dataset_from_directory(ham_dataset_dir, validation_split=0.3, color_mode='rgb',\n",
    "                                                     labels='inferred', shuffle=True, subset='training', image_size=(224, 224),\n",
    "                                                     batch_size=1, seed=seed)"
   ]
  },
  {
   "cell_type": "code",
   "execution_count": 128,
   "id": "ebc47c05",
   "metadata": {},
   "outputs": [
    {
     "name": "stdout",
     "output_type": "stream",
     "text": [
      "[1.40728022 0.66439689 0.65926641 3.73905109]\n"
     ]
    }
   ],
   "source": [
    "y = np.array([label.numpy()[0] for _, label in train_ds_single_batch])\n",
    "class_weights_list = compute_class_weight('balanced', classes=np.unique(y), y=y)\n",
    "print(class_weights_list)\n",
    "class_weights = {}\n",
    "\n",
    "for i in range(len(class_weights_list)):\n",
    "    class_weights[i] = class_weights_list[i]"
   ]
  },
  {
   "cell_type": "code",
   "execution_count": 129,
   "id": "41df0b52",
   "metadata": {},
   "outputs": [],
   "source": [
    "val_batches = tf.data.experimental.cardinality(val_ds)\n",
    "test_ds = val_ds.take(val_batches // 2)\n",
    "val_ds = val_ds.skip(val_batches // 2)"
   ]
  },
  {
   "cell_type": "code",
   "execution_count": 130,
   "id": "062c8815",
   "metadata": {},
   "outputs": [
    {
     "name": "stdout",
     "output_type": "stream",
     "text": [
      "Number of validation batches: 10\n",
      "Number of test batches: 9\n"
     ]
    }
   ],
   "source": [
    "print('Number of validation batches: %d' % tf.data.experimental.cardinality(val_ds))\n",
    "print('Number of test batches: %d' % tf.data.experimental.cardinality(test_ds))"
   ]
  },
  {
   "cell_type": "code",
   "execution_count": 131,
   "id": "348d54ee",
   "metadata": {},
   "outputs": [],
   "source": [
    "#scale immages\n",
    "rescale = keras.layers.experimental.preprocessing.Rescaling(scale=1.0 / 255)\n",
    "train_ds = train_ds.map(lambda x, y: (rescale(x), y))\n",
    "val_ds = val_ds.map(lambda x, y: (rescale(x), y))\n",
    "test_ds = test_ds.map(lambda x, y: (rescale(x), y))"
   ]
  },
  {
   "cell_type": "code",
   "execution_count": 132,
   "id": "0eb07c8f",
   "metadata": {},
   "outputs": [],
   "source": [
    "#autotune dataset\n",
    "train_ds = train_ds.prefetch(tf.data.AUTOTUNE)\n",
    "val_ds = val_ds.prefetch(tf.data.AUTOTUNE)\n",
    "test_ds = test_ds.prefetch(tf.data.AUTOTUNE)"
   ]
  },
  {
   "cell_type": "markdown",
   "id": "d5934544",
   "metadata": {},
   "source": [
    "### Define Model"
   ]
  },
  {
   "cell_type": "code",
   "execution_count": 133,
   "id": "1b2d9d08",
   "metadata": {},
   "outputs": [
    {
     "name": "stdout",
     "output_type": "stream",
     "text": [
      "Model: \"sequential_5\"\n",
      "_________________________________________________________________\n",
      " Layer (type)                Output Shape              Param #   \n",
      "=================================================================\n",
      " conv2d_25 (Conv2D)          (None, 112, 112, 32)      896       \n",
      "                                                                 \n",
      " batch_normalization_25 (Bat  (None, 112, 112, 32)     128       \n",
      " chNormalization)                                                \n",
      "                                                                 \n",
      " activation_25 (Activation)  (None, 112, 112, 32)      0         \n",
      "                                                                 \n",
      " conv2d_26 (Conv2D)          (None, 56, 56, 64)        18496     \n",
      "                                                                 \n",
      " batch_normalization_26 (Bat  (None, 56, 56, 64)       256       \n",
      " chNormalization)                                                \n",
      "                                                                 \n",
      " activation_26 (Activation)  (None, 56, 56, 64)        0         \n",
      "                                                                 \n",
      " conv2d_27 (Conv2D)          (None, 28, 28, 128)       73856     \n",
      "                                                                 \n",
      " batch_normalization_27 (Bat  (None, 28, 28, 128)      512       \n",
      " chNormalization)                                                \n",
      "                                                                 \n",
      " activation_27 (Activation)  (None, 28, 28, 128)       0         \n",
      "                                                                 \n",
      " conv2d_28 (Conv2D)          (None, 14, 14, 224)       258272    \n",
      "                                                                 \n",
      " batch_normalization_28 (Bat  (None, 14, 14, 224)      896       \n",
      " chNormalization)                                                \n",
      "                                                                 \n",
      " activation_28 (Activation)  (None, 14, 14, 224)       0         \n",
      "                                                                 \n",
      " conv2d_29 (Conv2D)          (None, 7, 7, 512)         1032704   \n",
      "                                                                 \n",
      " batch_normalization_29 (Bat  (None, 7, 7, 512)        2048      \n",
      " chNormalization)                                                \n",
      "                                                                 \n",
      " activation_29 (Activation)  (None, 7, 7, 512)         0         \n",
      "                                                                 \n",
      " flatten_5 (Flatten)         (None, 25088)             0         \n",
      "                                                                 \n",
      " dense_10 (Dense)            (None, 64)                1605696   \n",
      "                                                                 \n",
      " dense_11 (Dense)            (None, 4)                 260       \n",
      "                                                                 \n",
      "=================================================================\n",
      "Total params: 2,994,020\n",
      "Trainable params: 2,992,100\n",
      "Non-trainable params: 1,920\n",
      "_________________________________________________________________\n"
     ]
    }
   ],
   "source": [
    "#define the neural network\n",
    "model = Sequential()\n",
    "for conv_filter in filters:\n",
    "    model.add(keras.layers.Conv2D(conv_filter, 3, strides=2, padding='same', input_shape=input_shape))\n",
    "    model.add(keras.layers.BatchNormalization())\n",
    "    model.add(keras.layers.Activation('relu'))\n",
    "\n",
    "model.add(keras.layers.Flatten())\n",
    "model.add(keras.layers.Dense(64, kernel_regularizer=regularizers.l1_l2(l1=1e-5, l2=1e-5), activation='relu'))\n",
    "model.add(keras.layers.Dense(num_classes, activation='softmax'))\n",
    "\n",
    "#print summary of the model\n",
    "model.summary()"
   ]
  },
  {
   "cell_type": "code",
   "execution_count": 134,
   "id": "9c7f13ba",
   "metadata": {},
   "outputs": [],
   "source": [
    "#optimize the model with using Adam\n",
    "model.compile(loss='categorical_crossentropy', optimizer=keras.optimizers.Adam(), metrics=['accuracy'])"
   ]
  },
  {
   "cell_type": "markdown",
   "id": "564d3572",
   "metadata": {},
   "source": [
    "### Fit Model"
   ]
  },
  {
   "cell_type": "code",
   "execution_count": 156,
   "id": "4a2f7592",
   "metadata": {},
   "outputs": [
    {
     "name": "stdout",
     "output_type": "stream",
     "text": [
      "Epoch 1/50\n",
      "19/19 [==============================] - 2s 81ms/step - loss: 0.0755 - accuracy: 0.9943 - val_loss: 0.3177 - val_accuracy: 0.9056\n",
      "Epoch 2/50\n",
      "19/19 [==============================] - 2s 82ms/step - loss: 0.0713 - accuracy: 0.9977 - val_loss: 0.1840 - val_accuracy: 0.9573\n",
      "Epoch 3/50\n",
      "19/19 [==============================] - 2s 81ms/step - loss: 0.0928 - accuracy: 0.9875 - val_loss: 0.0669 - val_accuracy: 1.0000\n",
      "Epoch 4/50\n",
      "19/19 [==============================] - 2s 84ms/step - loss: 0.0864 - accuracy: 0.9932 - val_loss: 0.0906 - val_accuracy: 0.9888\n",
      "Epoch 5/50\n",
      "19/19 [==============================] - 2s 81ms/step - loss: 0.0825 - accuracy: 0.9897 - val_loss: 0.2347 - val_accuracy: 0.9213\n",
      "Epoch 6/50\n",
      "19/19 [==============================] - 2s 82ms/step - loss: 0.0842 - accuracy: 0.9886 - val_loss: 0.1149 - val_accuracy: 0.9775\n",
      "Epoch 7/50\n",
      "19/19 [==============================] - 2s 81ms/step - loss: 0.0965 - accuracy: 0.9795 - val_loss: 0.2374 - val_accuracy: 0.9236\n",
      "Epoch 8/50\n",
      "19/19 [==============================] - 2s 79ms/step - loss: 0.1501 - accuracy: 0.9635 - val_loss: 0.3371 - val_accuracy: 0.8921\n",
      "Epoch 9/50\n",
      "19/19 [==============================] - 2s 78ms/step - loss: 0.1656 - accuracy: 0.9612 - val_loss: 0.3099 - val_accuracy: 0.8876\n",
      "Epoch 10/50\n",
      "19/19 [==============================] - 2s 78ms/step - loss: 0.1084 - accuracy: 0.9806 - val_loss: 0.5390 - val_accuracy: 0.8787\n",
      "Epoch 11/50\n",
      "19/19 [==============================] - 2s 79ms/step - loss: 0.1029 - accuracy: 0.9897 - val_loss: 0.2235 - val_accuracy: 0.9506\n",
      "Epoch 12/50\n",
      "19/19 [==============================] - 2s 79ms/step - loss: 0.0739 - accuracy: 0.9932 - val_loss: 0.1616 - val_accuracy: 0.9663\n",
      "Epoch 13/50\n",
      "19/19 [==============================] - 2s 82ms/step - loss: 0.0705 - accuracy: 0.9954 - val_loss: 0.1376 - val_accuracy: 0.9775\n",
      "Epoch 14/50\n",
      "19/19 [==============================] - 2s 82ms/step - loss: 0.0639 - accuracy: 0.9966 - val_loss: 0.0675 - val_accuracy: 0.9933\n",
      "Epoch 15/50\n",
      "19/19 [==============================] - 2s 83ms/step - loss: 0.0551 - accuracy: 0.9989 - val_loss: 0.0521 - val_accuracy: 1.0000\n",
      "Epoch 16/50\n",
      "19/19 [==============================] - 2s 79ms/step - loss: 0.0513 - accuracy: 0.9989 - val_loss: 0.0488 - val_accuracy: 1.0000\n",
      "Epoch 17/50\n",
      "19/19 [==============================] - 2s 82ms/step - loss: 0.0501 - accuracy: 0.9989 - val_loss: 0.0519 - val_accuracy: 0.9978\n",
      "Epoch 18/50\n",
      "19/19 [==============================] - 2s 83ms/step - loss: 0.0499 - accuracy: 0.9989 - val_loss: 0.0582 - val_accuracy: 0.9978\n",
      "Epoch 19/50\n",
      "19/19 [==============================] - 2s 83ms/step - loss: 0.0501 - accuracy: 0.9989 - val_loss: 0.0657 - val_accuracy: 0.9955\n",
      "Epoch 20/50\n",
      "19/19 [==============================] - 2s 83ms/step - loss: 0.0492 - accuracy: 0.9989 - val_loss: 0.0480 - val_accuracy: 1.0000\n",
      "Epoch 21/50\n",
      "19/19 [==============================] - 2s 81ms/step - loss: 0.0465 - accuracy: 0.9989 - val_loss: 0.0445 - val_accuracy: 1.0000\n",
      "Epoch 22/50\n",
      "19/19 [==============================] - 2s 83ms/step - loss: 0.0450 - accuracy: 0.9989 - val_loss: 0.0461 - val_accuracy: 0.9978\n",
      "Epoch 23/50\n",
      "19/19 [==============================] - 2s 83ms/step - loss: 0.0445 - accuracy: 0.9989 - val_loss: 0.0419 - val_accuracy: 1.0000\n",
      "Epoch 24/50\n",
      "19/19 [==============================] - 2s 82ms/step - loss: 0.0456 - accuracy: 0.9989 - val_loss: 0.0430 - val_accuracy: 1.0000\n",
      "Epoch 25/50\n",
      "19/19 [==============================] - 2s 82ms/step - loss: 0.0472 - accuracy: 0.9977 - val_loss: 0.0498 - val_accuracy: 1.0000\n",
      "Epoch 26/50\n",
      "19/19 [==============================] - 2s 82ms/step - loss: 0.0927 - accuracy: 0.9806 - val_loss: 0.7869 - val_accuracy: 0.7910\n",
      "Epoch 27/50\n",
      "19/19 [==============================] - 2s 82ms/step - loss: 0.0906 - accuracy: 0.9852 - val_loss: 0.2135 - val_accuracy: 0.9438\n",
      "Epoch 28/50\n",
      "19/19 [==============================] - 2s 80ms/step - loss: 0.0728 - accuracy: 0.9909 - val_loss: 0.3616 - val_accuracy: 0.9079\n",
      "Epoch 29/50\n",
      "19/19 [==============================] - 2s 82ms/step - loss: 0.1721 - accuracy: 0.9567 - val_loss: 2.8498 - val_accuracy: 0.5910\n",
      "Epoch 30/50\n",
      "19/19 [==============================] - 2s 82ms/step - loss: 0.1122 - accuracy: 0.9772 - val_loss: 0.3966 - val_accuracy: 0.8809\n",
      "Epoch 31/50\n",
      "19/19 [==============================] - 2s 83ms/step - loss: 0.1103 - accuracy: 0.9772 - val_loss: 0.4581 - val_accuracy: 0.8674\n",
      "Epoch 32/50\n",
      "19/19 [==============================] - 2s 82ms/step - loss: 0.0925 - accuracy: 0.9875 - val_loss: 0.4720 - val_accuracy: 0.8517\n",
      "Epoch 33/50\n",
      "19/19 [==============================] - 2s 82ms/step - loss: 0.0852 - accuracy: 0.9897 - val_loss: 0.4966 - val_accuracy: 0.8404\n",
      "Epoch 34/50\n",
      "19/19 [==============================] - 2s 82ms/step - loss: 0.0604 - accuracy: 0.9954 - val_loss: 0.1064 - val_accuracy: 0.9798\n",
      "Epoch 35/50\n",
      "19/19 [==============================] - 2s 84ms/step - loss: 0.1372 - accuracy: 0.9783 - val_loss: 1.6771 - val_accuracy: 0.6584\n",
      "Epoch 36/50\n",
      "19/19 [==============================] - 2s 82ms/step - loss: 0.1124 - accuracy: 0.9749 - val_loss: 0.3872 - val_accuracy: 0.8854\n",
      "Epoch 37/50\n",
      "19/19 [==============================] - 2s 83ms/step - loss: 0.1029 - accuracy: 0.9840 - val_loss: 1.8297 - val_accuracy: 0.6787\n",
      "Epoch 38/50\n",
      "19/19 [==============================] - 2s 83ms/step - loss: 0.2929 - accuracy: 0.9339 - val_loss: 0.8394 - val_accuracy: 0.8045\n",
      "Epoch 39/50\n",
      "19/19 [==============================] - 2s 81ms/step - loss: 0.2004 - accuracy: 0.9453 - val_loss: 6.4413 - val_accuracy: 0.4247\n",
      "Epoch 40/50\n",
      "19/19 [==============================] - 2s 77ms/step - loss: 0.1322 - accuracy: 0.9738 - val_loss: 0.4556 - val_accuracy: 0.8764\n",
      "Epoch 41/50\n",
      "19/19 [==============================] - 2s 77ms/step - loss: 0.0901 - accuracy: 0.9932 - val_loss: 0.5869 - val_accuracy: 0.8202\n",
      "Epoch 42/50\n",
      "19/19 [==============================] - 2s 81ms/step - loss: 0.0767 - accuracy: 0.9920 - val_loss: 0.1157 - val_accuracy: 0.9820\n",
      "Epoch 43/50\n",
      "19/19 [==============================] - 2s 78ms/step - loss: 0.0614 - accuracy: 0.9977 - val_loss: 0.3345 - val_accuracy: 0.9213\n",
      "Epoch 44/50\n",
      "19/19 [==============================] - 2s 78ms/step - loss: 0.0570 - accuracy: 1.0000 - val_loss: 0.0922 - val_accuracy: 0.9865\n",
      "Epoch 45/50\n",
      "19/19 [==============================] - 2s 79ms/step - loss: 0.0534 - accuracy: 1.0000 - val_loss: 0.0575 - val_accuracy: 1.0000\n",
      "Epoch 46/50\n",
      "19/19 [==============================] - 2s 78ms/step - loss: 0.0513 - accuracy: 1.0000 - val_loss: 0.0524 - val_accuracy: 1.0000\n",
      "Epoch 47/50\n",
      "19/19 [==============================] - 2s 79ms/step - loss: 0.0501 - accuracy: 1.0000 - val_loss: 0.0499 - val_accuracy: 1.0000\n",
      "Epoch 48/50\n",
      "19/19 [==============================] - 2s 79ms/step - loss: 0.0487 - accuracy: 1.0000 - val_loss: 0.0487 - val_accuracy: 1.0000\n",
      "Epoch 49/50\n",
      "19/19 [==============================] - 2s 79ms/step - loss: 0.0482 - accuracy: 1.0000 - val_loss: 0.0476 - val_accuracy: 1.0000\n",
      "Epoch 50/50\n",
      "19/19 [==============================] - 2s 81ms/step - loss: 0.0474 - accuracy: 1.0000 - val_loss: 0.0463 - val_accuracy: 1.0000\n"
     ]
    }
   ],
   "source": [
    "#fit the validation data to the model\n",
    "history = model.fit(train_ds, validation_data=val_ds, epochs=50)"
   ]
  },
  {
   "cell_type": "code",
   "execution_count": 157,
   "id": "e4a86393",
   "metadata": {},
   "outputs": [
    {
     "name": "stdout",
     "output_type": "stream",
     "text": [
      "dict_keys(['loss', 'accuracy', 'val_loss', 'val_accuracy'])\n"
     ]
    },
    {
     "data": {
      "image/png": "[encoded data removed]",
      "text/plain": [
       "<Figure size 1080x360 with 2 Axes>"
      ]
     },
     "metadata": {
      "needs_background": "light"
     },
     "output_type": "display_data"
    }
   ],
   "source": [
    "def plotmodelhistory(history): \n",
    "    fig, axs = plt.subplots(1,2,figsize=(15,5)) \n",
    "    # summarize history for accuracy\n",
    "    axs[0].plot(history.history['accuracy']) \n",
    "    axs[0].plot(history.history['val_accuracy']) \n",
    "    axs[0].set_title('Model Accuracy')\n",
    "    axs[0].set_ylabel('Accuracy') \n",
    "    axs[0].set_xlabel('Epoch')\n",
    "    \n",
    "    axs[0].legend(['train', 'validate'], loc='upper left')\n",
    "    # summarize history for loss\n",
    "    axs[1].plot(history.history['loss']) \n",
    "    axs[1].plot(history.history['val_loss']) \n",
    "    axs[1].set_title('Model Loss')\n",
    "    axs[1].set_ylabel('Loss') \n",
    "    axs[1].set_xlabel('Epoch')\n",
    "    axs[1].legend(['train', 'validate'], loc='upper left')\n",
    "    plt.show()\n",
    "\n",
    "# list all data in history\n",
    "print(history.history.keys())\n",
    "plotmodelhistory(history)"
   ]
  },
  {
   "cell_type": "markdown",
   "id": "2e590693",
   "metadata": {},
   "source": [
    "### Evaluation"
   ]
  },
  {
   "cell_type": "code",
   "execution_count": 158,
   "id": "dcf3240d",
   "metadata": {},
   "outputs": [],
   "source": [
    "test_list = list(test_ds)"
   ]
  },
  {
   "cell_type": "code",
   "execution_count": 159,
   "id": "725308c7",
   "metadata": {},
   "outputs": [],
   "source": [
    "preds = []\n",
    "labels = []\n",
    "\n",
    "for batch_num in range(len(test_list)):\n",
    "    image_batch, label_batch = test_list[batch_num]\n",
    "    image_batch = image_batch.numpy()\n",
    "    label_batch = label_batch.numpy()\n",
    "    this_pred = model.predict_on_batch(image_batch)\n",
    "    this_classes = np.argmax(this_pred, axis=1)\n",
    "    \n",
    "    pred = tf.keras.utils.to_categorical(this_classes, num_classes=4)\n",
    "    \n",
    "    y_test_non_category = [ np.argmax(t) for t in label_batch ]\n",
    "    y_predict_non_category = [ np.argmax(t) for t in pred ]\n",
    "    \n",
    "    labels.extend(y_test_non_category)\n",
    "    preds.extend(y_predict_non_category)"
   ]
  },
  {
   "cell_type": "code",
   "execution_count": 160,
   "id": "f2ebdef2",
   "metadata": {},
   "outputs": [],
   "source": [
    "label_names = sorted(os.listdir(ham_dataset_dir))"
   ]
  },
  {
   "cell_type": "code",
   "execution_count": 161,
   "id": "85b61b53",
   "metadata": {},
   "outputs": [
    {
     "data": {
      "image/png": "[encoded data removed]",
      "text/plain": [
       "<Figure size 432x288 with 2 Axes>"
      ]
     },
     "metadata": {
      "needs_background": "light"
     },
     "output_type": "display_data"
    }
   ],
   "source": [
    "from sklearn.metrics import confusion_matrix, ConfusionMatrixDisplay\n",
    "conf_mat = confusion_matrix(labels, preds)\n",
    "\n",
    "disp = ConfusionMatrixDisplay(confusion_matrix=conf_mat, display_labels=label_names)\n",
    "disp.plot()\n",
    "plt.savefig('plots/cnn_da_ft_confmat_nv_' + str(nv_test_num) + '_gen_' + str(nv_gen_num) + '.pdf')"
   ]
  },
  {
   "cell_type": "markdown",
   "id": "8844b31e",
   "metadata": {},
   "source": [
    "### Precision Recall Metrics"
   ]
  },
  {
   "cell_type": "code",
   "execution_count": 162,
   "id": "7a6b0fd5",
   "metadata": {},
   "outputs": [],
   "source": [
    "from sklearn.metrics import accuracy_score, precision_score, recall_score, f1_score"
   ]
  },
  {
   "cell_type": "code",
   "execution_count": 163,
   "id": "e25ccac5",
   "metadata": {},
   "outputs": [
    {
     "name": "stdout",
     "output_type": "stream",
     "text": [
      "\n",
      "Accuracy: 1.00\n",
      "\n",
      "Micro Precision: 1.00\n",
      "Micro Recall: 1.00\n",
      "Micro F1-score: 1.00\n",
      "\n",
      "Macro Precision: 1.00\n",
      "Macro Recall: 1.00\n",
      "Macro F1-score: 1.00\n",
      "\n",
      "Weighted Precision: 1.00\n",
      "Weighted Recall: 1.00\n",
      "Weighted F1-score: 1.00\n",
      "\n",
      "Classification Report\n",
      "\n",
      "              precision    recall  f1-score   support\n",
      "\n",
      "         bcc       1.00      1.00      1.00        88\n",
      "         bkl       1.00      1.00      1.00       153\n",
      "         mel       1.00      1.00      1.00       160\n",
      "          nv       1.00      1.00      1.00        31\n",
      "\n",
      "    accuracy                           1.00       432\n",
      "   macro avg       1.00      1.00      1.00       432\n",
      "weighted avg       1.00      1.00      1.00       432\n",
      "\n"
     ]
    }
   ],
   "source": [
    "print('\\nAccuracy: {:.2f}\\n'.format(accuracy_score(labels, preds)))\n",
    "\n",
    "print('Micro Precision: {:.2f}'.format(precision_score(labels, preds, average='micro')))\n",
    "print('Micro Recall: {:.2f}'.format(recall_score(labels, preds, average='micro')))\n",
    "print('Micro F1-score: {:.2f}\\n'.format(f1_score(labels, preds, average='micro')))\n",
    "\n",
    "print('Macro Precision: {:.2f}'.format(precision_score(labels, preds, average='macro')))\n",
    "print('Macro Recall: {:.2f}'.format(recall_score(labels, preds, average='macro')))\n",
    "print('Macro F1-score: {:.2f}\\n'.format(f1_score(labels, preds, average='macro')))\n",
    "\n",
    "print('Weighted Precision: {:.2f}'.format(precision_score(labels, preds, average='weighted')))\n",
    "print('Weighted Recall: {:.2f}'.format(recall_score(labels, preds, average='weighted')))\n",
    "print('Weighted F1-score: {:.2f}'.format(f1_score(labels, preds, average='weighted')))\n",
    "\n",
    "from sklearn.metrics import classification_report\n",
    "print('\\nClassification Report\\n')\n",
    "print(classification_report(labels, preds, target_names=label_names))"
   ]
  },
  {
   "cell_type": "code",
   "execution_count": 164,
   "id": "79d1bd23",
   "metadata": {},
   "outputs": [],
   "source": [
    "report_dict = classification_report(labels, preds, target_names=label_names, output_dict=True)\n",
    "report_data = pd.DataFrame(report_dict)\n",
    "report_data.to_csv('reports/cnn_da_ft_report_nv_'+ str(nv_test_num) + '_gen_' + str(nv_gen_num) + '.csv')"
   ]
  },
  {
   "cell_type": "code",
   "execution_count": 165,
   "id": "51695baa",
   "metadata": {},
   "outputs": [],
   "source": [
    "report = pd.read_csv('reports/cnn_da_ft_report_nv_'+ str(nv_test_num) + '_gen_' + str(nv_gen_num) + '.csv')"
   ]
  },
  {
   "cell_type": "code",
   "execution_count": 166,
   "id": "603f96af",
   "metadata": {},
   "outputs": [
    {
     "name": "stdout",
     "output_type": "stream",
     "text": [
      "  Unnamed: 0   bcc    bkl    mel    nv  accuracy  macro avg  weighted avg\n",
      "0  precision   1.0    1.0    1.0   1.0       1.0        1.0           1.0\n",
      "1     recall   1.0    1.0    1.0   1.0       1.0        1.0           1.0\n",
      "2   f1-score   1.0    1.0    1.0   1.0       1.0        1.0           1.0\n",
      "3    support  88.0  153.0  160.0  31.0       1.0      432.0         432.0\n"
     ]
    }
   ],
   "source": [
    "print(report)"
   ]
  },
  {
   "cell_type": "code",
   "execution_count": null,
   "id": "d6c275e1",
   "metadata": {},
   "outputs": [],
   "source": []
  }
 ],
 "metadata": {
  "kernelspec": {
   "display_name": "Python 3",
   "language": "python",
   "name": "python3"
  },
  "language_info": {
   "codemirror_mode": {
    "name": "ipython",
    "version": 3
   },
   "file_extension": ".py",
   "mimetype": "text/x-python",
   "name": "python",
   "nbconvert_exporter": "python",
   "pygments_lexer": "ipython3",
   "version": "3.9.7"
  }
 },
 "nbformat": 4,
 "nbformat_minor": 5
}
