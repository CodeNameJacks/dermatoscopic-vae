{
 "cells": [
  {
   "cell_type": "code",
   "execution_count": 26,
   "id": "20195c75",
   "metadata": {},
   "outputs": [],
   "source": [
    "import matplotlib.pyplot as plt\n",
    "import numpy as np\n",
    "from tensorflow import keras\n",
    "import tensorflow as tf\n",
    "from tensorflow.keras import layers\n",
    "from tensorflow.keras import models\n",
    "from tensorflow.keras import preprocessing\n",
    "from tensorflow.keras.utils import to_categorical\n",
    "from tensorflow.keras.models import Sequential\n",
    "from tensorflow.keras.layers import Conv2D\n",
    "from tensorflow.keras.layers import MaxPooling2D\n",
    "from tensorflow.keras.layers import Dense\n",
    "from tensorflow.keras.layers import Flatten\n",
    "from tensorflow.keras.optimizers import SGD\n",
    "from tensorflow.keras import regularizers\n",
    "from keras.callbacks import EarlyStopping\n",
    "import numpy as np\n",
    "from sklearn.utils.class_weight import compute_class_weight"
   ]
  },
  {
   "cell_type": "code",
   "execution_count": 27,
   "id": "6e4aea7a",
   "metadata": {},
   "outputs": [],
   "source": [
    "import os\n",
    "import random\n",
    "from pathlib import Path\n",
    "import shutil"
   ]
  },
  {
   "cell_type": "code",
   "execution_count": 28,
   "id": "6b855898",
   "metadata": {},
   "outputs": [],
   "source": [
    "#VAE architecture and paramteres\n",
    "kernels = 2\n",
    "strides = 2\n",
    "latent_dim = 28\n",
    "filters = [32, 64, 128, 224, 512]\n",
    "input_shape = (224, 224, 3)\n",
    "last_conv_dim = int(input_shape[0] / (2 ** len(filters)))\n",
    "b_norm = 3\n",
    "#Batch Norm\n",
    "epsilon = 1e-5\n",
    "#spatial Classifier\n",
    "num_classes = 4\n",
    "#dataset\n",
    "ham_dataset_dir = 'ham_minified'\n",
    "batch_size = 48\n",
    "seed = 42\n",
    "#define early stopping paramter\n",
    "es = EarlyStopping(monitor='val_accuracy', mode='max', verbose=1, patience=5)"
   ]
  },
  {
   "cell_type": "code",
   "execution_count": 29,
   "id": "0aa57499",
   "metadata": {},
   "outputs": [],
   "source": [
    "ham_dataset_dir = 'ham_minified'\n",
    "nv_source_dir = 'nv_src'\n",
    "nv_test_num = 200\n",
    "nv_gen_num = 0\n",
    "batch_size = 48\n",
    "seed = 42"
   ]
  },
  {
   "cell_type": "code",
   "execution_count": 30,
   "id": "64fa9237",
   "metadata": {},
   "outputs": [],
   "source": [
    "images = list(os.walk(ham_dataset_dir + '/nv'))[0][2]\n",
    "for image_to_delete in images:\n",
    "    path = Path(f'{ham_dataset_dir}/nv/{image_to_delete}')\n",
    "    path.unlink(missing_ok=False)"
   ]
  },
  {
   "cell_type": "code",
   "execution_count": 31,
   "id": "c249ac00",
   "metadata": {},
   "outputs": [],
   "source": [
    "images = list(os.walk(nv_source_dir + '/nv_true'))[0][2]\n",
    "nv_images = random.sample(images, nv_test_num)\n",
    "for true_image in nv_images:\n",
    "    shutil.copy(nv_source_dir + '/nv_true/' + true_image, ham_dataset_dir + '/nv/' + true_image)"
   ]
  },
  {
   "cell_type": "code",
   "execution_count": 32,
   "id": "d0a23b9b",
   "metadata": {},
   "outputs": [],
   "source": [
    "images = list(os.walk(nv_source_dir + '/gen_data'))[0][2]\n",
    "gen_images = random.sample(images, nv_gen_num)\n",
    "for gen_image in gen_images:\n",
    "    shutil.copy(nv_source_dir + '/gen_data/' + gen_image, ham_dataset_dir + '/nv/' + gen_image)"
   ]
  },
  {
   "cell_type": "code",
   "execution_count": 33,
   "id": "361ddc4a",
   "metadata": {},
   "outputs": [
    {
     "name": "stdout",
     "output_type": "stream",
     "text": [
      "Found 2926 files belonging to 4 classes.\n",
      "Using 877 files for validation.\n",
      "Found 2926 files belonging to 4 classes.\n",
      "Using 877 files for validation.\n"
     ]
    }
   ],
   "source": [
    "#load and split datatse\n",
    "train_ds = keras.preprocessing.image_dataset_from_directory(ham_dataset_dir, validation_split=0.3, color_mode='rgb',\n",
    "                                                          labels='inferred', shuffle=True, subset='validation', image_size=(224, 224),\n",
    "                                                          batch_size=batch_size, seed=seed)\n",
    "\n",
    "val_ds = keras.preprocessing.image_dataset_from_directory(ham_dataset_dir, validation_split=0.3, color_mode='rgb',\n",
    "                                                          labels='inferred', shuffle=True, subset='validation', image_size=(224, 224),\n",
    "                                                          batch_size=batch_size, seed=seed)"
   ]
  },
  {
   "cell_type": "code",
   "execution_count": 34,
   "id": "44d95e71",
   "metadata": {},
   "outputs": [
    {
     "name": "stdout",
     "output_type": "stream",
     "text": [
      "Found 2926 files belonging to 4 classes.\n",
      "Using 2049 files for training.\n"
     ]
    }
   ],
   "source": [
    "classes = train_ds.class_names\n",
    "train_ds_single_batch = keras.preprocessing.image_dataset_from_directory(ham_dataset_dir, validation_split=0.3, color_mode='rgb',\n",
    "                                                     labels='inferred', shuffle=True, subset='training', image_size=(224, 224),\n",
    "                                                     batch_size=1, seed=seed)"
   ]
  },
  {
   "cell_type": "code",
   "execution_count": 35,
   "id": "fe9d1ef1",
   "metadata": {},
   "outputs": [
    {
     "name": "stdout",
     "output_type": "stream",
     "text": [
      "[1.40728022 0.66439689 0.65926641 3.73905109]\n"
     ]
    }
   ],
   "source": [
    "y = np.array([label.numpy()[0] for _, label in train_ds_single_batch])\n",
    "class_weights_list = compute_class_weight('balanced', classes=np.unique(y), y=y)\n",
    "print(class_weights_list)\n",
    "class_weights = {}\n",
    "\n",
    "for i in range(len(class_weights_list)):\n",
    "    class_weights[i] = class_weights_list[i]"
   ]
  },
  {
   "cell_type": "code",
   "execution_count": 36,
   "id": "19366565",
   "metadata": {},
   "outputs": [],
   "source": [
    "val_batches = tf.data.experimental.cardinality(val_ds)\n",
    "test_ds = val_ds.take(val_batches // 2)\n",
    "val_ds = val_ds.skip(val_batches // 2)"
   ]
  },
  {
   "cell_type": "code",
   "execution_count": 37,
   "id": "3a2b5e89",
   "metadata": {},
   "outputs": [
    {
     "name": "stdout",
     "output_type": "stream",
     "text": [
      "Number of validation batches: 10\n",
      "Number of test batches: 9\n"
     ]
    }
   ],
   "source": [
    "print('Number of validation batches: %d' % tf.data.experimental.cardinality(val_ds))\n",
    "print('Number of test batches: %d' % tf.data.experimental.cardinality(test_ds))"
   ]
  },
  {
   "cell_type": "code",
   "execution_count": 38,
   "id": "77d42a04",
   "metadata": {},
   "outputs": [],
   "source": [
    "#scale immages\n",
    "rescale = keras.layers.experimental.preprocessing.Rescaling(scale=1.0 / 255)\n",
    "train_ds = train_ds.map(lambda x, y: (rescale(x), y))\n",
    "val_ds = val_ds.map(lambda x, y: (rescale(x), y))\n",
    "test_ds = test_ds.map(lambda x, y: (rescale(x), y))"
   ]
  },
  {
   "cell_type": "code",
   "execution_count": 39,
   "id": "4d6ab5f0",
   "metadata": {},
   "outputs": [],
   "source": [
    "#autotune dataset\n",
    "train_ds = train_ds.prefetch(tf.data.AUTOTUNE)\n",
    "val_ds = val_ds.prefetch(tf.data.AUTOTUNE)\n",
    "test_ds = test_ds.prefetch(tf.data.AUTOTUNE)"
   ]
  },
  {
   "cell_type": "code",
   "execution_count": 40,
   "id": "df4b73a0",
   "metadata": {},
   "outputs": [
    {
     "name": "stdout",
     "output_type": "stream",
     "text": [
      "Model: \"sequential_1\"\n",
      "_________________________________________________________________\n",
      " Layer (type)                Output Shape              Param #   \n",
      "=================================================================\n",
      " conv2d_5 (Conv2D)           (None, 112, 112, 32)      896       \n",
      "                                                                 \n",
      " batch_normalization_5 (Batc  (None, 112, 112, 32)     128       \n",
      " hNormalization)                                                 \n",
      "                                                                 \n",
      " activation_5 (Activation)   (None, 112, 112, 32)      0         \n",
      "                                                                 \n",
      " conv2d_6 (Conv2D)           (None, 56, 56, 64)        18496     \n",
      "                                                                 \n",
      " batch_normalization_6 (Batc  (None, 56, 56, 64)       256       \n",
      " hNormalization)                                                 \n",
      "                                                                 \n",
      " activation_6 (Activation)   (None, 56, 56, 64)        0         \n",
      "                                                                 \n",
      " conv2d_7 (Conv2D)           (None, 28, 28, 128)       73856     \n",
      "                                                                 \n",
      " batch_normalization_7 (Batc  (None, 28, 28, 128)      512       \n",
      " hNormalization)                                                 \n",
      "                                                                 \n",
      " activation_7 (Activation)   (None, 28, 28, 128)       0         \n",
      "                                                                 \n",
      " conv2d_8 (Conv2D)           (None, 14, 14, 224)       258272    \n",
      "                                                                 \n",
      " batch_normalization_8 (Batc  (None, 14, 14, 224)      896       \n",
      " hNormalization)                                                 \n",
      "                                                                 \n",
      " activation_8 (Activation)   (None, 14, 14, 224)       0         \n",
      "                                                                 \n",
      " conv2d_9 (Conv2D)           (None, 7, 7, 512)         1032704   \n",
      "                                                                 \n",
      " batch_normalization_9 (Batc  (None, 7, 7, 512)        2048      \n",
      " hNormalization)                                                 \n",
      "                                                                 \n",
      " activation_9 (Activation)   (None, 7, 7, 512)         0         \n",
      "                                                                 \n",
      " flatten_1 (Flatten)         (None, 25088)             0         \n",
      "                                                                 \n",
      " dense_2 (Dense)             (None, 64)                1605696   \n",
      "                                                                 \n",
      " dense_3 (Dense)             (None, 4)                 260       \n",
      "                                                                 \n",
      "=================================================================\n",
      "Total params: 2,994,020\n",
      "Trainable params: 2,992,100\n",
      "Non-trainable params: 1,920\n",
      "_________________________________________________________________\n"
     ]
    }
   ],
   "source": [
    "#define the neural network\n",
    "model = Sequential()\n",
    "for conv_filter in filters:\n",
    "    model.add(keras.layers.Conv2D(conv_filter, 3, strides=2, padding='same', input_shape=input_shape))\n",
    "    model.add(keras.layers.BatchNormalization())\n",
    "    model.add(keras.layers.Activation('relu'))\n",
    "\n",
    "model.add(keras.layers.Flatten())\n",
    "model.add(keras.layers.Dense(64, kernel_regularizer=regularizers.l1_l2(l1=1e-5, l2=1e-5), activation='relu'))\n",
    "model.add(keras.layers.Dense(num_classes, activation='softmax'))\n",
    "\n",
    "#print summary of the model\n",
    "model.summary()"
   ]
  },
  {
   "cell_type": "code",
   "execution_count": 41,
   "id": "d3fd4d59",
   "metadata": {},
   "outputs": [],
   "source": [
    "#optimize the model with using Adam\n",
    "model.compile(loss='sparse_categorical_crossentropy', optimizer=keras.optimizers.Adam(), metrics=['accuracy'])"
   ]
  },
  {
   "cell_type": "code",
   "execution_count": 42,
   "id": "068a34cd",
   "metadata": {},
   "outputs": [
    {
     "name": "stdout",
     "output_type": "stream",
     "text": [
      "Epoch 1/50\n",
      "19/19 [==============================] - 2s 85ms/step - loss: 3.5141 - accuracy: 0.3615 - val_loss: 1.6013 - val_accuracy: 0.3303\n",
      "Epoch 2/50\n",
      "19/19 [==============================] - 2s 80ms/step - loss: 1.2931 - accuracy: 0.4059 - val_loss: 1.6350 - val_accuracy: 0.1640\n",
      "Epoch 3/50\n",
      "19/19 [==============================] - 2s 79ms/step - loss: 1.2620 - accuracy: 0.4128 - val_loss: 1.7201 - val_accuracy: 0.1865\n",
      "Epoch 4/50\n",
      "19/19 [==============================] - 2s 79ms/step - loss: 1.1355 - accuracy: 0.5610 - val_loss: 1.8348 - val_accuracy: 0.1573\n",
      "Epoch 5/50\n",
      "19/19 [==============================] - 2s 79ms/step - loss: 1.0402 - accuracy: 0.6032 - val_loss: 2.0068 - val_accuracy: 0.1528\n",
      "Epoch 6/50\n",
      "19/19 [==============================] - 2s 80ms/step - loss: 1.0220 - accuracy: 0.6385 - val_loss: 1.7878 - val_accuracy: 0.2022\n",
      "Epoch 7/50\n",
      "19/19 [==============================] - 2s 77ms/step - loss: 1.1164 - accuracy: 0.5735 - val_loss: 1.9339 - val_accuracy: 0.3034\n",
      "Epoch 8/50\n",
      "19/19 [==============================] - 2s 80ms/step - loss: 1.0574 - accuracy: 0.6021 - val_loss: 2.1596 - val_accuracy: 0.2472\n",
      "Epoch 9/50\n",
      "19/19 [==============================] - 2s 80ms/step - loss: 0.9589 - accuracy: 0.6294 - val_loss: 2.1133 - val_accuracy: 0.2472\n",
      "Epoch 10/50\n",
      "19/19 [==============================] - 2s 79ms/step - loss: 0.8954 - accuracy: 0.6784 - val_loss: 2.0642 - val_accuracy: 0.2045\n",
      "Epoch 11/50\n",
      "19/19 [==============================] - 2s 80ms/step - loss: 0.8942 - accuracy: 0.6408 - val_loss: 1.9697 - val_accuracy: 0.1596\n",
      "Epoch 12/50\n",
      "19/19 [==============================] - 2s 79ms/step - loss: 0.8927 - accuracy: 0.6294 - val_loss: 1.8554 - val_accuracy: 0.3708\n",
      "Epoch 13/50\n",
      "19/19 [==============================] - 2s 79ms/step - loss: 0.8249 - accuracy: 0.6579 - val_loss: 2.3370 - val_accuracy: 0.4247\n",
      "Epoch 14/50\n",
      "19/19 [==============================] - 2s 81ms/step - loss: 0.8923 - accuracy: 0.6226 - val_loss: 2.1874 - val_accuracy: 0.3596\n",
      "Epoch 15/50\n",
      "19/19 [==============================] - 2s 79ms/step - loss: 0.8232 - accuracy: 0.6659 - val_loss: 2.3320 - val_accuracy: 0.4000\n",
      "Epoch 16/50\n",
      "19/19 [==============================] - 2s 78ms/step - loss: 0.8104 - accuracy: 0.6545 - val_loss: 2.1076 - val_accuracy: 0.4045\n",
      "Epoch 17/50\n",
      "19/19 [==============================] - 2s 78ms/step - loss: 0.8521 - accuracy: 0.5827 - val_loss: 2.7166 - val_accuracy: 0.2270\n",
      "Epoch 18/50\n",
      "19/19 [==============================] - 2s 78ms/step - loss: 0.7789 - accuracy: 0.6260 - val_loss: 2.0297 - val_accuracy: 0.4180\n",
      "Epoch 19/50\n",
      "19/19 [==============================] - 2s 78ms/step - loss: 0.8057 - accuracy: 0.6990 - val_loss: 1.4397 - val_accuracy: 0.4607\n",
      "Epoch 20/50\n",
      "19/19 [==============================] - 2s 78ms/step - loss: 0.8752 - accuracy: 0.5747 - val_loss: 1.5371 - val_accuracy: 0.4517\n",
      "Epoch 21/50\n",
      "19/19 [==============================] - 2s 78ms/step - loss: 0.7831 - accuracy: 0.6534 - val_loss: 1.4596 - val_accuracy: 0.5371\n",
      "Epoch 22/50\n",
      "19/19 [==============================] - 2s 77ms/step - loss: 0.7799 - accuracy: 0.6910 - val_loss: 1.0375 - val_accuracy: 0.5865\n",
      "Epoch 23/50\n",
      "19/19 [==============================] - 2s 77ms/step - loss: 0.6667 - accuracy: 0.7206 - val_loss: 1.7403 - val_accuracy: 0.5438\n",
      "Epoch 24/50\n",
      "19/19 [==============================] - 2s 78ms/step - loss: 0.6368 - accuracy: 0.7047 - val_loss: 1.4166 - val_accuracy: 0.5371\n",
      "Epoch 25/50\n",
      "19/19 [==============================] - 2s 80ms/step - loss: 0.6043 - accuracy: 0.7184 - val_loss: 1.4325 - val_accuracy: 0.4539\n",
      "Epoch 26/50\n",
      "19/19 [==============================] - 2s 77ms/step - loss: 0.6423 - accuracy: 0.7127 - val_loss: 1.2552 - val_accuracy: 0.5303\n",
      "Epoch 27/50\n",
      "19/19 [==============================] - 2s 78ms/step - loss: 0.5968 - accuracy: 0.7206 - val_loss: 1.1718 - val_accuracy: 0.5528\n",
      "Epoch 28/50\n",
      "19/19 [==============================] - 2s 77ms/step - loss: 0.6979 - accuracy: 0.6784 - val_loss: 2.3257 - val_accuracy: 0.3146\n",
      "Epoch 29/50\n",
      "19/19 [==============================] - 2s 78ms/step - loss: 1.1699 - accuracy: 0.4390 - val_loss: 2.2973 - val_accuracy: 0.2966\n",
      "Epoch 30/50\n",
      "19/19 [==============================] - 2s 77ms/step - loss: 0.9111 - accuracy: 0.5325 - val_loss: 1.3094 - val_accuracy: 0.4697\n",
      "Epoch 31/50\n",
      "19/19 [==============================] - 2s 78ms/step - loss: 0.7835 - accuracy: 0.6602 - val_loss: 1.1427 - val_accuracy: 0.6270\n",
      "Epoch 32/50\n",
      "19/19 [==============================] - 2s 77ms/step - loss: 0.7506 - accuracy: 0.6887 - val_loss: 0.8622 - val_accuracy: 0.7011\n",
      "Epoch 33/50\n",
      "19/19 [==============================] - 2s 77ms/step - loss: 0.6956 - accuracy: 0.7218 - val_loss: 1.2071 - val_accuracy: 0.5753\n",
      "Epoch 34/50\n",
      "19/19 [==============================] - 2s 76ms/step - loss: 0.6266 - accuracy: 0.7457 - val_loss: 0.9251 - val_accuracy: 0.6674\n",
      "Epoch 35/50\n",
      "19/19 [==============================] - 2s 77ms/step - loss: 0.5758 - accuracy: 0.7685 - val_loss: 0.7617 - val_accuracy: 0.6899\n",
      "Epoch 36/50\n",
      "19/19 [==============================] - 2s 78ms/step - loss: 0.5504 - accuracy: 0.7856 - val_loss: 0.6803 - val_accuracy: 0.7640\n",
      "Epoch 37/50\n",
      "19/19 [==============================] - 2s 78ms/step - loss: 0.5802 - accuracy: 0.7834 - val_loss: 0.9138 - val_accuracy: 0.6787\n",
      "Epoch 38/50\n",
      "19/19 [==============================] - 2s 77ms/step - loss: 0.6636 - accuracy: 0.7355 - val_loss: 1.2188 - val_accuracy: 0.6247\n",
      "Epoch 39/50\n",
      "19/19 [==============================] - 2s 80ms/step - loss: 0.5865 - accuracy: 0.7617 - val_loss: 0.7527 - val_accuracy: 0.7034\n",
      "Epoch 40/50\n",
      "19/19 [==============================] - 2s 79ms/step - loss: 0.5498 - accuracy: 0.7811 - val_loss: 0.5918 - val_accuracy: 0.7573\n",
      "Epoch 41/50\n",
      "19/19 [==============================] - 2s 79ms/step - loss: 0.4591 - accuracy: 0.8176 - val_loss: 0.8010 - val_accuracy: 0.6831\n",
      "Epoch 42/50\n",
      "19/19 [==============================] - 2s 77ms/step - loss: 0.4433 - accuracy: 0.8255 - val_loss: 0.7577 - val_accuracy: 0.7011\n",
      "Epoch 43/50\n",
      "19/19 [==============================] - 2s 78ms/step - loss: 0.4104 - accuracy: 0.8369 - val_loss: 0.6254 - val_accuracy: 0.7483\n",
      "Epoch 44/50\n",
      "19/19 [==============================] - 2s 79ms/step - loss: 0.4276 - accuracy: 0.8415 - val_loss: 0.5339 - val_accuracy: 0.8022\n",
      "Epoch 45/50\n",
      "19/19 [==============================] - 2s 79ms/step - loss: 0.6581 - accuracy: 0.7058 - val_loss: 1.0687 - val_accuracy: 0.5888\n",
      "Epoch 46/50\n",
      "19/19 [==============================] - 2s 78ms/step - loss: 0.5876 - accuracy: 0.7925 - val_loss: 1.2386 - val_accuracy: 0.6404\n",
      "Epoch 47/50\n",
      "19/19 [==============================] - 2s 79ms/step - loss: 0.4762 - accuracy: 0.8244 - val_loss: 0.6523 - val_accuracy: 0.7348\n",
      "Epoch 48/50\n",
      "19/19 [==============================] - 2s 80ms/step - loss: 0.4400 - accuracy: 0.8358 - val_loss: 0.4838 - val_accuracy: 0.8270\n",
      "Epoch 49/50\n",
      "19/19 [==============================] - 2s 79ms/step - loss: 0.3921 - accuracy: 0.8655 - val_loss: 0.7091 - val_accuracy: 0.7213\n",
      "Epoch 50/50\n",
      "19/19 [==============================] - 2s 78ms/step - loss: 0.3662 - accuracy: 0.8597 - val_loss: 0.7897 - val_accuracy: 0.7056\n"
     ]
    }
   ],
   "source": [
    "#fit the validation data to the model\n",
    "history = model.fit(train_ds, validation_data=val_ds, epochs=50, class_weight=class_weights)"
   ]
  },
  {
   "cell_type": "code",
   "execution_count": 43,
   "id": "40f51b26",
   "metadata": {},
   "outputs": [
    {
     "name": "stdout",
     "output_type": "stream",
     "text": [
      "dict_keys(['loss', 'accuracy', 'val_loss', 'val_accuracy'])\n"
     ]
    },
    {
     "data": {
      "image/png": "[encoded data removed]",
      "text/plain": [
       "<Figure size 1080x360 with 2 Axes>"
      ]
     },
     "metadata": {
      "needs_background": "light"
     },
     "output_type": "display_data"
    }
   ],
   "source": [
    "def plotmodelhistory(history): \n",
    "    fig, axs = plt.subplots(1,2,figsize=(15,5)) \n",
    "    # summarize history for accuracy\n",
    "    axs[0].plot(history.history['accuracy']) \n",
    "    axs[0].plot(history.history['val_accuracy']) \n",
    "    axs[0].set_title('Model Accuracy')\n",
    "    axs[0].set_ylabel('Accuracy') \n",
    "    axs[0].set_xlabel('Epoch')\n",
    "    \n",
    "    axs[0].legend(['train', 'validate'], loc='upper left')\n",
    "    # summarize history for loss\n",
    "    axs[1].plot(history.history['loss']) \n",
    "    axs[1].plot(history.history['val_loss']) \n",
    "    axs[1].set_title('Model Loss')\n",
    "    axs[1].set_ylabel('Loss') \n",
    "    axs[1].set_xlabel('Epoch')\n",
    "    axs[1].legend(['train', 'validate'], loc='upper left')\n",
    "    plt.show()\n",
    "\n",
    "# list all data in history\n",
    "print(history.history.keys())\n",
    "plotmodelhistory(history)"
   ]
  },
  {
   "cell_type": "code",
   "execution_count": 44,
   "id": "38b04e62",
   "metadata": {},
   "outputs": [],
   "source": [
    "test_list = list(test_ds)"
   ]
  },
  {
   "cell_type": "code",
   "execution_count": 45,
   "id": "9cb6aa29",
   "metadata": {},
   "outputs": [],
   "source": [
    "preds = []\n",
    "labels = []\n",
    "\n",
    "for batch_num in range(len(test_list)):\n",
    "    image_batch, label_batch = test_list[batch_num]\n",
    "    image_batch = image_batch.numpy()\n",
    "    label_batch = label_batch.numpy()\n",
    "    this_pred = model.predict_on_batch(image_batch)\n",
    "    this_classes = np.argmax(this_pred, axis=1)\n",
    "    \n",
    "    pred = tf.keras.utils.to_categorical(this_classes, num_classes=4)\n",
    "    \n",
    "    y_test_non_category = [ np.argmax(t) for t in label_batch ]\n",
    "    y_predict_non_category = [ np.argmax(t) for t in pred ]\n",
    "    \n",
    "    labels.extend(y_test_non_category)\n",
    "    preds.extend(y_predict_non_category)"
   ]
  },
  {
   "cell_type": "code",
   "execution_count": 46,
   "id": "26414c89",
   "metadata": {},
   "outputs": [],
   "source": [
    "label_names = sorted(os.listdir(ham_dataset_dir))"
   ]
  },
  {
   "cell_type": "code",
   "execution_count": 47,
   "id": "99e9a1d1",
   "metadata": {},
   "outputs": [
    {
     "data": {
      "image/png": "[encoded data removed]",
      "text/plain": [
       "<Figure size 432x288 with 2 Axes>"
      ]
     },
     "metadata": {
      "needs_background": "light"
     },
     "output_type": "display_data"
    }
   ],
   "source": [
    "from sklearn.metrics import confusion_matrix, ConfusionMatrixDisplay\n",
    "conf_mat = confusion_matrix(labels, preds)\n",
    "\n",
    "disp = ConfusionMatrixDisplay(confusion_matrix=conf_mat, display_labels=label_names)\n",
    "disp.plot()\n",
    "plt.savefig('plots/cnn_da_ft_confmat_nv_' + str(nv_test_num) + '_gen_' + str(nv_gen_num) + '.pdf')"
   ]
  },
  {
   "cell_type": "code",
   "execution_count": null,
   "id": "93ece43e",
   "metadata": {},
   "outputs": [],
   "source": []
  }
 ],
 "metadata": {
  "kernelspec": {
   "display_name": "Python 3",
   "language": "python",
   "name": "python3"
  },
  "language_info": {
   "codemirror_mode": {
    "name": "ipython",
    "version": 3
   },
   "file_extension": ".py",
   "mimetype": "text/x-python",
   "name": "python",
   "nbconvert_exporter": "python",
   "pygments_lexer": "ipython3",
   "version": "3.9.7"
  }
 },
 "nbformat": 4,
 "nbformat_minor": 5
}
