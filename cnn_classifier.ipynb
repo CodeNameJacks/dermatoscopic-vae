{
 "cells": [
  {
   "cell_type": "code",
   "execution_count": 119,
   "id": "80a1e582",
   "metadata": {},
   "outputs": [],
   "source": [
    "import matplotlib.pyplot as plt\n",
    "import numpy as np\n",
    "from tensorflow import keras\n",
    "import tensorflow as tf\n",
    "from tensorflow.keras import layers\n",
    "from tensorflow.keras import models\n",
    "from tensorflow.keras import preprocessing\n",
    "from tensorflow.keras.utils import to_categorical\n",
    "from tensorflow.keras.models import Sequential\n",
    "from tensorflow.keras.layers import Conv2D\n",
    "from tensorflow.keras.layers import MaxPooling2D\n",
    "from tensorflow.keras.layers import Dense\n",
    "from tensorflow.keras.layers import Flatten\n",
    "from tensorflow.keras.optimizers import SGD\n",
    "from tensorflow.keras import regularizers\n",
    "from keras.callbacks import EarlyStopping\n",
    "import numpy as np\n",
    "from sklearn.utils.class_weight import compute_class_weight"
   ]
  },
  {
   "cell_type": "code",
   "execution_count": 120,
   "id": "bf84f839",
   "metadata": {},
   "outputs": [],
   "source": [
    "import os\n",
    "import random\n",
    "from pathlib import Path\n",
    "import shutil\n",
    "import pandas as pd"
   ]
  },
  {
   "cell_type": "code",
   "execution_count": 121,
   "id": "827de77f",
   "metadata": {},
   "outputs": [],
   "source": [
    "#VAE architecture and paramteres\n",
    "kernels = 2\n",
    "strides = 2\n",
    "latent_dim = 28\n",
    "filters = [32, 64, 128, 224, 512]\n",
    "input_shape = (224, 224, 3)\n",
    "last_conv_dim = int(input_shape[0] / (2 ** len(filters)))\n",
    "b_norm = 3\n",
    "#Batch Norm\n",
    "epsilon = 1e-5\n",
    "#spatial Classifier\n",
    "num_classes = 4\n",
    "#dataset\n",
    "ham_dataset_dir = 'ham_minified'\n",
    "batch_size = 48\n",
    "seed = 42\n",
    "#define early stopping paramter\n",
    "es = EarlyStopping(monitor='val_accuracy', mode='max', verbose=1, patience=5)"
   ]
  },
  {
   "cell_type": "code",
   "execution_count": 122,
   "id": "e1fa53c7",
   "metadata": {},
   "outputs": [],
   "source": [
    "ham_dataset_dir = 'ham_minified'\n",
    "nv_source_dir = 'nv_src'\n",
    "nv_test_num = 200\n",
    "nv_gen_num = 0\n",
    "batch_size = 48\n",
    "seed = 42"
   ]
  },
  {
   "cell_type": "markdown",
   "id": "f67ad329",
   "metadata": {},
   "source": [
    "### Combine True and Synthetic Data"
   ]
  },
  {
   "cell_type": "code",
   "execution_count": 123,
   "id": "42f97d60",
   "metadata": {},
   "outputs": [],
   "source": [
    "images = list(os.walk(ham_dataset_dir + '/nv'))[0][2]\n",
    "for image_to_delete in images:\n",
    "    path = Path(f'{ham_dataset_dir}/nv/{image_to_delete}')\n",
    "    path.unlink(missing_ok=False)"
   ]
  },
  {
   "cell_type": "code",
   "execution_count": 124,
   "id": "d4fa91ce",
   "metadata": {},
   "outputs": [],
   "source": [
    "images = list(os.walk(nv_source_dir + '/nv_true'))[0][2]\n",
    "nv_images = random.sample(images, nv_test_num)\n",
    "for true_image in nv_images:\n",
    "    shutil.copy(nv_source_dir + '/nv_true/' + true_image, ham_dataset_dir + '/nv/' + true_image)"
   ]
  },
  {
   "cell_type": "code",
   "execution_count": 125,
   "id": "8e7f3abf",
   "metadata": {},
   "outputs": [],
   "source": [
    "images = list(os.walk(nv_source_dir + '/gen_data'))[0][2]\n",
    "gen_images = random.sample(images, nv_gen_num)\n",
    "for gen_image in gen_images:\n",
    "    shutil.copy(nv_source_dir + '/gen_data/' + gen_image, ham_dataset_dir + '/nv/' + gen_image)"
   ]
  },
  {
   "cell_type": "markdown",
   "id": "8c9cd9a9",
   "metadata": {},
   "source": [
    "### Data Processing & Class Weights"
   ]
  },
  {
   "cell_type": "code",
   "execution_count": 126,
   "id": "891fbea6",
   "metadata": {},
   "outputs": [
    {
     "name": "stdout",
     "output_type": "stream",
     "text": [
      "Found 2926 files belonging to 4 classes.\n",
      "Using 877 files for validation.\n",
      "Found 2926 files belonging to 4 classes.\n",
      "Using 877 files for validation.\n"
     ]
    }
   ],
   "source": [
    "#load and split datatse\n",
    "train_ds = keras.preprocessing.image_dataset_from_directory(ham_dataset_dir, validation_split=0.3, color_mode='rgb',\n",
    "                                                          labels='inferred', label_mode='categorical', shuffle=True, subset='validation', image_size=(224, 224),\n",
    "                                                          batch_size=batch_size, seed=seed)\n",
    "\n",
    "val_ds = keras.preprocessing.image_dataset_from_directory(ham_dataset_dir, validation_split=0.3, color_mode='rgb',\n",
    "                                                          labels='inferred', label_mode='categorical', shuffle=True, subset='validation', image_size=(224, 224),\n",
    "                                                          batch_size=batch_size, seed=seed)"
   ]
  },
  {
   "cell_type": "code",
   "execution_count": 127,
   "id": "b251e51b",
   "metadata": {},
   "outputs": [
    {
     "name": "stdout",
     "output_type": "stream",
     "text": [
      "Found 2926 files belonging to 4 classes.\n",
      "Using 2049 files for training.\n"
     ]
    }
   ],
   "source": [
    "classes = train_ds.class_names\n",
    "train_ds_single_batch = keras.preprocessing.image_dataset_from_directory(ham_dataset_dir, validation_split=0.3, color_mode='rgb',\n",
    "                                                     labels='inferred', shuffle=True, subset='training', image_size=(224, 224),\n",
    "                                                     batch_size=1, seed=seed)"
   ]
  },
  {
   "cell_type": "code",
   "execution_count": 128,
   "id": "06c83ff5",
   "metadata": {},
   "outputs": [
    {
     "name": "stdout",
     "output_type": "stream",
     "text": [
      "[1.40728022 0.66439689 0.65926641 3.73905109]\n"
     ]
    }
   ],
   "source": [
    "y = np.array([label.numpy()[0] for _, label in train_ds_single_batch])\n",
    "class_weights_list = compute_class_weight('balanced', classes=np.unique(y), y=y)\n",
    "print(class_weights_list)\n",
    "class_weights = {}\n",
    "\n",
    "for i in range(len(class_weights_list)):\n",
    "    class_weights[i] = class_weights_list[i]"
   ]
  },
  {
   "cell_type": "code",
   "execution_count": 129,
   "id": "7def4778",
   "metadata": {},
   "outputs": [],
   "source": [
    "val_batches = tf.data.experimental.cardinality(val_ds)\n",
    "test_ds = val_ds.take(val_batches // 2)\n",
    "val_ds = val_ds.skip(val_batches // 2)"
   ]
  },
  {
   "cell_type": "code",
   "execution_count": 130,
   "id": "d63bf7fa",
   "metadata": {},
   "outputs": [
    {
     "name": "stdout",
     "output_type": "stream",
     "text": [
      "Number of validation batches: 10\n",
      "Number of test batches: 9\n"
     ]
    }
   ],
   "source": [
    "print('Number of validation batches: %d' % tf.data.experimental.cardinality(val_ds))\n",
    "print('Number of test batches: %d' % tf.data.experimental.cardinality(test_ds))"
   ]
  },
  {
   "cell_type": "code",
   "execution_count": 131,
   "id": "27454626",
   "metadata": {},
   "outputs": [],
   "source": [
    "#scale immages\n",
    "rescale = keras.layers.experimental.preprocessing.Rescaling(scale=1.0 / 255)\n",
    "train_ds = train_ds.map(lambda x, y: (rescale(x), y))\n",
    "val_ds = val_ds.map(lambda x, y: (rescale(x), y))\n",
    "test_ds = test_ds.map(lambda x, y: (rescale(x), y))"
   ]
  },
  {
   "cell_type": "code",
   "execution_count": 132,
   "id": "a700f5df",
   "metadata": {},
   "outputs": [],
   "source": [
    "#autotune dataset\n",
    "train_ds = train_ds.prefetch(tf.data.AUTOTUNE)\n",
    "val_ds = val_ds.prefetch(tf.data.AUTOTUNE)\n",
    "test_ds = test_ds.prefetch(tf.data.AUTOTUNE)"
   ]
  },
  {
   "cell_type": "markdown",
   "id": "1f955d0e",
   "metadata": {},
   "source": [
    "### Define Model"
   ]
  },
  {
   "cell_type": "code",
   "execution_count": 133,
   "id": "957ade24",
   "metadata": {},
   "outputs": [
    {
     "name": "stdout",
     "output_type": "stream",
     "text": [
      "Model: \"sequential_5\"\n",
      "_________________________________________________________________\n",
      " Layer (type)                Output Shape              Param #   \n",
      "=================================================================\n",
      " conv2d_25 (Conv2D)          (None, 112, 112, 32)      896       \n",
      "                                                                 \n",
      " batch_normalization_25 (Bat  (None, 112, 112, 32)     128       \n",
      " chNormalization)                                                \n",
      "                                                                 \n",
      " activation_25 (Activation)  (None, 112, 112, 32)      0         \n",
      "                                                                 \n",
      " conv2d_26 (Conv2D)          (None, 56, 56, 64)        18496     \n",
      "                                                                 \n",
      " batch_normalization_26 (Bat  (None, 56, 56, 64)       256       \n",
      " chNormalization)                                                \n",
      "                                                                 \n",
      " activation_26 (Activation)  (None, 56, 56, 64)        0         \n",
      "                                                                 \n",
      " conv2d_27 (Conv2D)          (None, 28, 28, 128)       73856     \n",
      "                                                                 \n",
      " batch_normalization_27 (Bat  (None, 28, 28, 128)      512       \n",
      " chNormalization)                                                \n",
      "                                                                 \n",
      " activation_27 (Activation)  (None, 28, 28, 128)       0         \n",
      "                                                                 \n",
      " conv2d_28 (Conv2D)          (None, 14, 14, 224)       258272    \n",
      "                                                                 \n",
      " batch_normalization_28 (Bat  (None, 14, 14, 224)      896       \n",
      " chNormalization)                                                \n",
      "                                                                 \n",
      " activation_28 (Activation)  (None, 14, 14, 224)       0         \n",
      "                                                                 \n",
      " conv2d_29 (Conv2D)          (None, 7, 7, 512)         1032704   \n",
      "                                                                 \n",
      " batch_normalization_29 (Bat  (None, 7, 7, 512)        2048      \n",
      " chNormalization)                                                \n",
      "                                                                 \n",
      " activation_29 (Activation)  (None, 7, 7, 512)         0         \n",
      "                                                                 \n",
      " flatten_5 (Flatten)         (None, 25088)             0         \n",
      "                                                                 \n",
      " dense_10 (Dense)            (None, 64)                1605696   \n",
      "                                                                 \n",
      " dense_11 (Dense)            (None, 4)                 260       \n",
      "                                                                 \n",
      "=================================================================\n",
      "Total params: 2,994,020\n",
      "Trainable params: 2,992,100\n",
      "Non-trainable params: 1,920\n",
      "_________________________________________________________________\n"
     ]
    }
   ],
   "source": [
    "#define the neural network\n",
    "model = Sequential()\n",
    "for conv_filter in filters:\n",
    "    model.add(keras.layers.Conv2D(conv_filter, 3, strides=2, padding='same', input_shape=input_shape))\n",
    "    model.add(keras.layers.BatchNormalization())\n",
    "    model.add(keras.layers.Activation('relu'))\n",
    "\n",
    "model.add(keras.layers.Flatten())\n",
    "model.add(keras.layers.Dense(64, kernel_regularizer=regularizers.l1_l2(l1=1e-5, l2=1e-5), activation='relu'))\n",
    "model.add(keras.layers.Dense(num_classes, activation='softmax'))\n",
    "\n",
    "#print summary of the model\n",
    "model.summary()"
   ]
  },
  {
   "cell_type": "code",
   "execution_count": 134,
   "id": "35adb275",
   "metadata": {},
   "outputs": [],
   "source": [
    "#optimize the model with using Adam\n",
    "model.compile(loss='categorical_crossentropy', optimizer=keras.optimizers.Adam(), metrics=['accuracy'])"
   ]
  },
  {
   "cell_type": "markdown",
   "id": "655cd4b8",
   "metadata": {},
   "source": [
    "### Fit Model"
   ]
  },
  {
   "cell_type": "code",
   "execution_count": null,
   "id": "bea29581",
   "metadata": {},
   "outputs": [
    {
     "name": "stdout",
     "output_type": "stream",
     "text": [
      "Epoch 1/50\n",
      "19/19 [==============================] - 2s 85ms/step - loss: 3.0193 - accuracy: 0.3261 - val_loss: 1.5558 - val_accuracy: 0.1753\n",
      "Epoch 2/50\n",
      "19/19 [==============================] - 2s 77ms/step - loss: 1.2731 - accuracy: 0.4196 - val_loss: 1.7052 - val_accuracy: 0.1618\n",
      "Epoch 3/50\n",
      "19/19 [==============================] - 2s 77ms/step - loss: 1.0929 - accuracy: 0.5257 - val_loss: 1.8984 - val_accuracy: 0.1843\n",
      "Epoch 4/50\n",
      "19/19 [==============================] - 2s 77ms/step - loss: 1.0375 - accuracy: 0.5450 - val_loss: 2.1706 - val_accuracy: 0.1506\n",
      "Epoch 5/50\n",
      "19/19 [==============================] - 2s 78ms/step - loss: 0.9796 - accuracy: 0.5929 - val_loss: 2.5525 - val_accuracy: 0.1528\n",
      "Epoch 6/50\n",
      "19/19 [==============================] - 2s 80ms/step - loss: 0.8904 - accuracy: 0.6192 - val_loss: 2.1513 - val_accuracy: 0.1528\n",
      "Epoch 7/50\n",
      "19/19 [==============================] - 2s 81ms/step - loss: 0.8441 - accuracy: 0.6613 - val_loss: 2.4455 - val_accuracy: 0.1775\n",
      "Epoch 8/50\n",
      "19/19 [==============================] - 2s 82ms/step - loss: 0.8609 - accuracy: 0.6363 - val_loss: 2.3803 - val_accuracy: 0.1596\n",
      "Epoch 9/50\n",
      "19/19 [==============================] - 2s 81ms/step - loss: 0.8369 - accuracy: 0.6385 - val_loss: 2.5389 - val_accuracy: 0.1798\n",
      "Epoch 10/50\n",
      "19/19 [==============================] - 2s 80ms/step - loss: 0.8754 - accuracy: 0.6465 - val_loss: 3.8147 - val_accuracy: 0.1551\n",
      "Epoch 11/50\n",
      "19/19 [==============================] - 2s 81ms/step - loss: 0.8542 - accuracy: 0.6385 - val_loss: 2.0196 - val_accuracy: 0.2292\n",
      "Epoch 12/50\n",
      "19/19 [==============================] - 2s 81ms/step - loss: 0.6923 - accuracy: 0.7070 - val_loss: 3.2938 - val_accuracy: 0.2090\n",
      "Epoch 13/50\n",
      "19/19 [==============================] - 2s 80ms/step - loss: 0.6493 - accuracy: 0.7172 - val_loss: 2.3494 - val_accuracy: 0.2382\n",
      "Epoch 14/50\n",
      "19/19 [==============================] - 2s 80ms/step - loss: 0.6338 - accuracy: 0.7548 - val_loss: 4.0292 - val_accuracy: 0.1888\n",
      "Epoch 15/50\n",
      "19/19 [==============================] - 2s 81ms/step - loss: 0.5848 - accuracy: 0.7537 - val_loss: 3.8455 - val_accuracy: 0.2360\n",
      "Epoch 16/50\n",
      "19/19 [==============================] - 2s 81ms/step - loss: 0.5367 - accuracy: 0.7868 - val_loss: 3.5241 - val_accuracy: 0.2225\n",
      "Epoch 17/50\n",
      "19/19 [==============================] - 2s 80ms/step - loss: 0.5710 - accuracy: 0.7651 - val_loss: 3.4308 - val_accuracy: 0.2000\n",
      "Epoch 18/50\n",
      "19/19 [==============================] - 2s 81ms/step - loss: 0.5150 - accuracy: 0.7970 - val_loss: 3.1374 - val_accuracy: 0.3708\n",
      "Epoch 19/50\n",
      "19/19 [==============================] - 2s 82ms/step - loss: 0.4627 - accuracy: 0.8107 - val_loss: 2.9222 - val_accuracy: 0.3303\n",
      "Epoch 20/50\n",
      "19/19 [==============================] - 2s 80ms/step - loss: 0.4168 - accuracy: 0.8449 - val_loss: 1.8221 - val_accuracy: 0.4270\n",
      "Epoch 21/50\n",
      "19/19 [==============================] - 2s 81ms/step - loss: 0.3577 - accuracy: 0.8803 - val_loss: 1.7518 - val_accuracy: 0.4899\n",
      "Epoch 22/50\n",
      "19/19 [==============================] - 2s 81ms/step - loss: 0.2874 - accuracy: 0.9156 - val_loss: 1.9930 - val_accuracy: 0.5079\n",
      "Epoch 23/50\n",
      "19/19 [==============================] - 2s 81ms/step - loss: 0.2743 - accuracy: 0.9202 - val_loss: 1.2494 - val_accuracy: 0.5798\n",
      "Epoch 24/50\n",
      "19/19 [==============================] - 2s 81ms/step - loss: 0.3307 - accuracy: 0.8826 - val_loss: 1.6939 - val_accuracy: 0.5303\n",
      "Epoch 25/50\n",
      "19/19 [==============================] - 2s 81ms/step - loss: 0.3005 - accuracy: 0.9088 - val_loss: 1.0207 - val_accuracy: 0.6517\n",
      "Epoch 26/50\n",
      "19/19 [==============================] - 2s 85ms/step - loss: 0.3702 - accuracy: 0.8700 - val_loss: 2.6537 - val_accuracy: 0.4607\n",
      "Epoch 27/50\n",
      "19/19 [==============================] - 2s 78ms/step - loss: 0.3636 - accuracy: 0.8689 - val_loss: 0.7178 - val_accuracy: 0.7326\n",
      "Epoch 28/50\n",
      "19/19 [==============================] - 2s 78ms/step - loss: 0.4710 - accuracy: 0.8267 - val_loss: 1.0665 - val_accuracy: 0.6831\n",
      "Epoch 29/50\n",
      "19/19 [==============================] - 2s 78ms/step - loss: 0.6995 - accuracy: 0.7218 - val_loss: 0.7568 - val_accuracy: 0.7034\n",
      "Epoch 30/50\n",
      "19/19 [==============================] - 2s 77ms/step - loss: 0.4386 - accuracy: 0.8312 - val_loss: 1.6736 - val_accuracy: 0.5730\n",
      "Epoch 31/50\n",
      "19/19 [==============================] - 2s 78ms/step - loss: 0.3085 - accuracy: 0.9042 - val_loss: 1.1381 - val_accuracy: 0.7281\n",
      "Epoch 32/50\n",
      "19/19 [==============================] - 2s 78ms/step - loss: 0.2573 - accuracy: 0.9304 - val_loss: 0.6303 - val_accuracy: 0.7753\n",
      "Epoch 33/50\n",
      "19/19 [==============================] - 2s 78ms/step - loss: 0.2067 - accuracy: 0.9373 - val_loss: 0.4148 - val_accuracy: 0.8764\n",
      "Epoch 34/50\n",
      "19/19 [==============================] - 2s 77ms/step - loss: 0.1891 - accuracy: 0.9590 - val_loss: 0.2211 - val_accuracy: 0.9596\n",
      "Epoch 35/50\n",
      "19/19 [==============================] - 2s 78ms/step - loss: 0.1894 - accuracy: 0.9590 - val_loss: 0.7046 - val_accuracy: 0.8000\n",
      "Epoch 36/50\n",
      "19/19 [==============================] - 2s 78ms/step - loss: 0.1560 - accuracy: 0.9704 - val_loss: 0.3095 - val_accuracy: 0.9079\n",
      "Epoch 37/50\n",
      "19/19 [==============================] - 2s 79ms/step - loss: 0.1335 - accuracy: 0.9818 - val_loss: 0.1384 - val_accuracy: 0.9955\n",
      "Epoch 38/50\n",
      "19/19 [==============================] - 2s 79ms/step - loss: 0.1068 - accuracy: 0.9966 - val_loss: 0.2284 - val_accuracy: 0.9438\n",
      "Epoch 39/50\n",
      "19/19 [==============================] - 2s 78ms/step - loss: 0.0928 - accuracy: 0.9943 - val_loss: 0.2183 - val_accuracy: 0.9506\n",
      "Epoch 40/50\n",
      "19/19 [==============================] - 2s 78ms/step - loss: 0.0916 - accuracy: 0.9966 - val_loss: 0.1850 - val_accuracy: 0.9618\n",
      "Epoch 41/50\n",
      "19/19 [==============================] - 2s 79ms/step - loss: 0.0899 - accuracy: 0.9954 - val_loss: 0.2002 - val_accuracy: 0.9506\n",
      "Epoch 42/50\n",
      "18/19 [===========================>..] - ETA: 0s - loss: 0.1062 - accuracy: 0.9861"
     ]
    }
   ],
   "source": [
    "#fit the validation data to the model\n",
    "history = model.fit(train_ds, validation_data=val_ds, epochs=50, class_weight=class_weights)"
   ]
  },
  {
   "cell_type": "code",
   "execution_count": null,
   "id": "7fb5c7a3",
   "metadata": {},
   "outputs": [],
   "source": [
    "def plotmodelhistory(history): \n",
    "    fig, axs = plt.subplots(1,2,figsize=(15,5)) \n",
    "    # summarize history for accuracy\n",
    "    axs[0].plot(history.history['accuracy']) \n",
    "    axs[0].plot(history.history['val_accuracy']) \n",
    "    axs[0].set_title('Model Accuracy')\n",
    "    axs[0].set_ylabel('Accuracy') \n",
    "    axs[0].set_xlabel('Epoch')\n",
    "    \n",
    "    axs[0].legend(['train', 'validate'], loc='upper left')\n",
    "    # summarize history for loss\n",
    "    axs[1].plot(history.history['loss']) \n",
    "    axs[1].plot(history.history['val_loss']) \n",
    "    axs[1].set_title('Model Loss')\n",
    "    axs[1].set_ylabel('Loss') \n",
    "    axs[1].set_xlabel('Epoch')\n",
    "    axs[1].legend(['train', 'validate'], loc='upper left')\n",
    "    plt.show()\n",
    "\n",
    "# list all data in history\n",
    "print(history.history.keys())\n",
    "plotmodelhistory(history)"
   ]
  },
  {
   "cell_type": "markdown",
   "id": "ba8fab0a",
   "metadata": {},
   "source": [
    "### Evaluation"
   ]
  },
  {
   "cell_type": "code",
   "execution_count": 110,
   "id": "a35b806c",
   "metadata": {},
   "outputs": [],
   "source": [
    "test_list = list(test_ds)"
   ]
  },
  {
   "cell_type": "code",
   "execution_count": 111,
   "id": "cb0153a0",
   "metadata": {},
   "outputs": [],
   "source": [
    "preds = []\n",
    "labels = []\n",
    "\n",
    "for batch_num in range(len(test_list)):\n",
    "    image_batch, label_batch = test_list[batch_num]\n",
    "    image_batch = image_batch.numpy()\n",
    "    label_batch = label_batch.numpy()\n",
    "    this_pred = model.predict_on_batch(image_batch)\n",
    "    this_classes = np.argmax(this_pred, axis=1)\n",
    "    \n",
    "    pred = tf.keras.utils.to_categorical(this_classes, num_classes=4)\n",
    "    \n",
    "    y_test_non_category = [ np.argmax(t) for t in label_batch ]\n",
    "    y_predict_non_category = [ np.argmax(t) for t in pred ]\n",
    "    \n",
    "    labels.extend(y_test_non_category)\n",
    "    preds.extend(y_predict_non_category)"
   ]
  },
  {
   "cell_type": "code",
   "execution_count": 112,
   "id": "3f87bf27",
   "metadata": {},
   "outputs": [],
   "source": [
    "label_names = sorted(os.listdir(ham_dataset_dir))"
   ]
  },
  {
   "cell_type": "code",
   "execution_count": 113,
   "id": "bbe9cf96",
   "metadata": {},
   "outputs": [
    {
     "data": {
      "image/png": "[encoded data removed]",
      "text/plain": [
       "<Figure size 432x288 with 2 Axes>"
      ]
     },
     "metadata": {
      "needs_background": "light"
     },
     "output_type": "display_data"
    }
   ],
   "source": [
    "from sklearn.metrics import confusion_matrix, ConfusionMatrixDisplay\n",
    "conf_mat = confusion_matrix(labels, preds)\n",
    "\n",
    "disp = ConfusionMatrixDisplay(confusion_matrix=conf_mat, display_labels=label_names)\n",
    "disp.plot()\n",
    "plt.savefig('plots/cnn_da_ft_confmat_nv_' + str(nv_test_num) + '_gen_' + str(nv_gen_num) + '.pdf')"
   ]
  },
  {
   "cell_type": "markdown",
   "id": "c1677ea6",
   "metadata": {},
   "source": [
    "### Precision Recall Metrics"
   ]
  },
  {
   "cell_type": "code",
   "execution_count": 114,
   "id": "9d31b0f5",
   "metadata": {},
   "outputs": [],
   "source": [
    "from sklearn.metrics import accuracy_score, precision_score, recall_score, f1_score"
   ]
  },
  {
   "cell_type": "code",
   "execution_count": 115,
   "id": "45ac3c7b",
   "metadata": {},
   "outputs": [
    {
     "name": "stdout",
     "output_type": "stream",
     "text": [
      "\n",
      "Accuracy: 0.84\n",
      "\n",
      "Micro Precision: 0.84\n",
      "Micro Recall: 0.84\n",
      "Micro F1-score: 0.84\n",
      "\n",
      "Macro Precision: 0.86\n",
      "Macro Recall: 0.88\n",
      "Macro F1-score: 0.87\n",
      "\n",
      "Weighted Precision: 0.84\n",
      "Weighted Recall: 0.84\n",
      "Weighted F1-score: 0.84\n",
      "\n",
      "Classification Report\n",
      "\n",
      "              precision    recall  f1-score   support\n",
      "\n",
      "         bcc       0.92      0.93      0.92        82\n",
      "         bkl       0.78      0.79      0.78       152\n",
      "         mel       0.85      0.82      0.83       168\n",
      "          nv       0.91      0.97      0.94        30\n",
      "\n",
      "    accuracy                           0.84       432\n",
      "   macro avg       0.86      0.88      0.87       432\n",
      "weighted avg       0.84      0.84      0.84       432\n",
      "\n"
     ]
    }
   ],
   "source": [
    "print('\\nAccuracy: {:.2f}\\n'.format(accuracy_score(labels, preds)))\n",
    "\n",
    "print('Micro Precision: {:.2f}'.format(precision_score(labels, preds, average='micro')))\n",
    "print('Micro Recall: {:.2f}'.format(recall_score(labels, preds, average='micro')))\n",
    "print('Micro F1-score: {:.2f}\\n'.format(f1_score(labels, preds, average='micro')))\n",
    "\n",
    "print('Macro Precision: {:.2f}'.format(precision_score(labels, preds, average='macro')))\n",
    "print('Macro Recall: {:.2f}'.format(recall_score(labels, preds, average='macro')))\n",
    "print('Macro F1-score: {:.2f}\\n'.format(f1_score(labels, preds, average='macro')))\n",
    "\n",
    "print('Weighted Precision: {:.2f}'.format(precision_score(labels, preds, average='weighted')))\n",
    "print('Weighted Recall: {:.2f}'.format(recall_score(labels, preds, average='weighted')))\n",
    "print('Weighted F1-score: {:.2f}'.format(f1_score(labels, preds, average='weighted')))\n",
    "\n",
    "from sklearn.metrics import classification_report\n",
    "print('\\nClassification Report\\n')\n",
    "print(classification_report(labels, preds, target_names=label_names))"
   ]
  },
  {
   "cell_type": "code",
   "execution_count": 116,
   "id": "8fe4d3d9",
   "metadata": {},
   "outputs": [],
   "source": [
    "report_dict = classification_report(labels, preds, target_names=label_names, output_dict=True)\n",
    "report_data = pd.DataFrame(report_dict)\n",
    "report_data.to_csv('reports/cnn_da_ft_report_nv_'+ str(nv_test_num) + '_gen_' + str(nv_gen_num) + '.csv')"
   ]
  },
  {
   "cell_type": "code",
   "execution_count": 117,
   "id": "d24909bf",
   "metadata": {},
   "outputs": [],
   "source": [
    "report = pd.read_csv('reports/cnn_da_ft_report_nv_'+ str(nv_test_num) + '_gen_' + str(nv_gen_num) + '.csv')"
   ]
  },
  {
   "cell_type": "code",
   "execution_count": 118,
   "id": "1afb7b74",
   "metadata": {},
   "outputs": [
    {
     "name": "stdout",
     "output_type": "stream",
     "text": [
      "  Unnamed: 0        bcc         bkl         mel         nv  accuracy  \\\n",
      "0  precision   0.915663    0.779221    0.846626   0.906250  0.840278   \n",
      "1     recall   0.926829    0.789474    0.821429   0.966667  0.840278   \n",
      "2   f1-score   0.921212    0.784314    0.833837   0.935484  0.840278   \n",
      "3    support  82.000000  152.000000  168.000000  30.000000  0.840278   \n",
      "\n",
      "    macro avg  weighted avg  \n",
      "0    0.861940      0.840154  \n",
      "1    0.876100      0.840278  \n",
      "2    0.868712      0.840056  \n",
      "3  432.000000    432.000000  \n"
     ]
    }
   ],
   "source": [
    "print(report)"
   ]
  }
 ],
 "metadata": {
  "kernelspec": {
   "display_name": "Python 3",
   "language": "python",
   "name": "python3"
  },
  "language_info": {
   "codemirror_mode": {
    "name": "ipython",
    "version": 3
   },
   "file_extension": ".py",
   "mimetype": "text/x-python",
   "name": "python",
   "nbconvert_exporter": "python",
   "pygments_lexer": "ipython3",
   "version": "3.9.7"
  }
 },
 "nbformat": 4,
 "nbformat_minor": 5
}
