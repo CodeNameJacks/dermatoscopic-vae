{
 "cells": [
  {
   "cell_type": "code",
   "execution_count": 1035,
   "id": "ff8abf6d",
   "metadata": {},
   "outputs": [],
   "source": [
    "import tensorflow as tf\n",
    "import tensorflow.keras as keras\n",
    "from tensorflow.keras.models import Sequential\n",
    "import numpy as np\n",
    "from sklearn.utils.class_weight import compute_class_weight\n",
    "from config import Config as c"
   ]
  },
  {
   "cell_type": "code",
   "execution_count": 1036,
   "id": "f527fefa",
   "metadata": {},
   "outputs": [],
   "source": [
    "import matplotlib.pyplot as plt\n",
    "import json\n",
    "import pandas as pd"
   ]
  },
  {
   "cell_type": "code",
   "execution_count": 1037,
   "id": "b6cf2f2f",
   "metadata": {},
   "outputs": [],
   "source": [
    "import os\n",
    "import random\n",
    "from pathlib import Path\n",
    "import shutil"
   ]
  },
  {
   "cell_type": "code",
   "execution_count": 1281,
   "id": "d1ef1315",
   "metadata": {},
   "outputs": [],
   "source": [
    "ham_dataset_dir = 'ham_minified'\n",
    "mel_source_dir = 'mel_src'\n",
    "mel_test_num = 200\n",
    "mel_gen_num = 800\n",
    "batch_size = 48\n",
    "seed = 42"
   ]
  },
  {
   "cell_type": "code",
   "execution_count": 1282,
   "id": "66e12822",
   "metadata": {},
   "outputs": [],
   "source": [
    "IMG_SIZE = (224, 224)"
   ]
  },
  {
   "cell_type": "code",
   "execution_count": 1283,
   "id": "57d914c2",
   "metadata": {},
   "outputs": [
    {
     "name": "stdout",
     "output_type": "stream",
     "text": [
      "Num GPUs Available:  1\n"
     ]
    }
   ],
   "source": [
    "print(\"Num GPUs Available: \", len(tf.config.list_physical_devices('GPU')))"
   ]
  },
  {
   "cell_type": "markdown",
   "id": "af402cca",
   "metadata": {},
   "source": [
    "### Data Preprocessing and Augmentation"
   ]
  },
  {
   "cell_type": "code",
   "execution_count": 1284,
   "id": "b27f0725",
   "metadata": {},
   "outputs": [],
   "source": [
    "# images = list(os.walk(ham_dataset_dir + '/mel'))[0][2]\n",
    "# images_to_save = random.sample(images, mel_test_num)\n",
    "# images_to_delete = [image for image in images if image not in images_to_save]\n",
    "# for image_to_delete in images_to_delete:\n",
    "#     path = Path(f'{ham_dataset_dir}/mel/{image_to_delete}')\n",
    "#     path.unlink(missing_ok=False)"
   ]
  },
  {
   "cell_type": "code",
   "execution_count": 1285,
   "id": "591e5b01",
   "metadata": {},
   "outputs": [],
   "source": [
    "images = list(os.walk(ham_dataset_dir + '/mel'))[0][2]\n",
    "for image_to_delete in images:\n",
    "    path = Path(f'{ham_dataset_dir}/mel/{image_to_delete}')\n",
    "    path.unlink(missing_ok=False)"
   ]
  },
  {
   "cell_type": "code",
   "execution_count": 1286,
   "id": "fa46b781",
   "metadata": {},
   "outputs": [],
   "source": [
    "images = list(os.walk(mel_source_dir + '/mel_true'))[0][2]\n",
    "mel_images = random.sample(images, mel_test_num)\n",
    "for true_image in mel_images:\n",
    "    shutil.copy(mel_source_dir + '/mel_true/' + true_image, ham_dataset_dir + '/mel/' + true_image)"
   ]
  },
  {
   "cell_type": "code",
   "execution_count": 1287,
   "id": "7d0f0e1b",
   "metadata": {},
   "outputs": [
    {
     "name": "stdout",
     "output_type": "stream",
     "text": [
      "Found 2813 files belonging to 4 classes.\n",
      "Using 843 files for validation.\n"
     ]
    }
   ],
   "source": [
    "val_ds = keras.preprocessing.image_dataset_from_directory(ham_dataset_dir, validation_split=0.3, color_mode='rgb',\n",
    "                                                          labels='inferred', label_mode='categorical', shuffle=True, subset='validation', image_size=IMG_SIZE,\n",
    "                                                          batch_size=batch_size,  seed=seed)"
   ]
  },
  {
   "cell_type": "code",
   "execution_count": 1288,
   "id": "3327a83c",
   "metadata": {},
   "outputs": [],
   "source": [
    "images = list(os.walk(mel_source_dir + '/gen_data'))[0][2]\n",
    "gen_images = random.sample(images, mel_gen_num)\n",
    "for gen_image in gen_images:\n",
    "    shutil.copy(mel_source_dir + '/gen_data/' + gen_image, ham_dataset_dir + '/mel/' + gen_image)"
   ]
  },
  {
   "cell_type": "code",
   "execution_count": 1289,
   "id": "bd97b703",
   "metadata": {},
   "outputs": [
    {
     "name": "stdout",
     "output_type": "stream",
     "text": [
      "Found 3613 files belonging to 4 classes.\n",
      "Using 2530 files for training.\n"
     ]
    }
   ],
   "source": [
    "train_ds = keras.preprocessing.image_dataset_from_directory(ham_dataset_dir, validation_split=0.3, color_mode='rgb',\n",
    "                                                            labels='inferred', label_mode='categorical', shuffle=True, subset='training', image_size=IMG_SIZE,\n",
    "                                                            batch_size=batch_size, seed=seed)"
   ]
  },
  {
   "cell_type": "code",
   "execution_count": 1290,
   "id": "2a8e86dc",
   "metadata": {},
   "outputs": [],
   "source": [
    "# class_names = train_ds.class_names\n",
    "\n",
    "# plt.figure(figsize=(10, 10))\n",
    "\n",
    "# for images, labels in train_ds.take(1):\n",
    "#     for i in range(9):\n",
    "#         ax = plt.subplot(3, 3, i + 1)\n",
    "#         plt.imshow(images[i].numpy().astype(\"uint8\"))\n",
    "#         plt.title(class_names[labels[i]])\n",
    "#         plt.axis(\"off\")"
   ]
  },
  {
   "cell_type": "code",
   "execution_count": 1291,
   "id": "b22674c8",
   "metadata": {},
   "outputs": [],
   "source": [
    "val_batches = tf.data.experimental.cardinality(val_ds)\n",
    "test_ds = val_ds.take(val_batches // 2)\n",
    "val_ds = val_ds.skip(val_batches // 2)"
   ]
  },
  {
   "cell_type": "code",
   "execution_count": 1292,
   "id": "a4856551",
   "metadata": {},
   "outputs": [],
   "source": [
    "val_labels = [np.argmax(y.numpy(), axis=1) for x, y in list(val_ds)]\n",
    "val_labels = np.concatenate(val_labels, axis=None)\n",
    "\n",
    "test_labels = [np.argmax(y.numpy(), axis=1) for x, y in list(test_ds)]\n",
    "test_labels = np.concatenate(test_labels, axis=None)"
   ]
  },
  {
   "cell_type": "code",
   "execution_count": 1293,
   "id": "cd34b68a",
   "metadata": {},
   "outputs": [
    {
     "name": "stdout",
     "output_type": "stream",
     "text": [
      "Size of validation dataset: 411\n",
      "Size of test dataset: 432\n"
     ]
    }
   ],
   "source": [
    "print('Size of validation dataset: %d' % len(val_labels))\n",
    "print('Size of test dataset: %d' % len(test_labels))"
   ]
  },
  {
   "cell_type": "code",
   "execution_count": 1294,
   "id": "18225be4",
   "metadata": {},
   "outputs": [
    {
     "name": "stdout",
     "output_type": "stream",
     "text": [
      "Number of validation batches: 9\n",
      "Number of test batches: 9\n"
     ]
    }
   ],
   "source": [
    "print('Number of validation batches: %d' % tf.data.experimental.cardinality(val_ds))\n",
    "print('Number of test batches: %d' % tf.data.experimental.cardinality(test_ds))"
   ]
  },
  {
   "cell_type": "code",
   "execution_count": 1295,
   "id": "a1f2e56d",
   "metadata": {},
   "outputs": [],
   "source": [
    "# train_ds = train_ds.map(lambda x, y: (rescale(x), y))\n",
    "# val_ds = val_ds.map(lambda x, y: (rescale(x), y))\n",
    "# test_ds = test_ds.map(lambda x, y: (rescale(x), y))\n",
    "\n",
    "train_ds = train_ds.prefetch(tf.data.AUTOTUNE)\n",
    "val_ds = val_ds.prefetch(tf.data.AUTOTUNE)\n",
    "test_ds = test_ds.prefetch(buffer_size=tf.data.AUTOTUNE)"
   ]
  },
  {
   "cell_type": "markdown",
   "id": "a3c4223f",
   "metadata": {},
   "source": [
    "### Data Augmentation"
   ]
  },
  {
   "cell_type": "code",
   "execution_count": 1296,
   "id": "15096020",
   "metadata": {},
   "outputs": [],
   "source": [
    "data_augmentation = tf.keras.Sequential([\n",
    "  tf.keras.layers.RandomFlip('horizontal_and_vertical'),\n",
    "  tf.keras.layers.RandomRotation(0.3),\n",
    "  tf.keras.layers.RandomZoom(0.4,0.4),\n",
    "  tf.keras.layers.RandomContrast(0.3)\n",
    "])"
   ]
  },
  {
   "cell_type": "code",
   "execution_count": 1297,
   "id": "5e7667c6",
   "metadata": {},
   "outputs": [],
   "source": [
    "# for image, _ in train_ds.take(1):\n",
    "#     plt.figure(figsize=(10, 10))\n",
    "#     first_image = image[0]\n",
    "#     for i in range(9):\n",
    "#         ax = plt.subplot(3, 3, i + 1)\n",
    "#         augmented_image = data_augmentation(tf.expand_dims(first_image, 0))\n",
    "#         plt.imshow(augmented_image[0] / 255)\n",
    "#         plt.axis('off')"
   ]
  },
  {
   "cell_type": "code",
   "execution_count": 1298,
   "id": "9b61820c",
   "metadata": {},
   "outputs": [],
   "source": [
    "# rescale = keras.layers.experimental.preprocessing.Rescaling(scale=1.0 / 255)"
   ]
  },
  {
   "cell_type": "markdown",
   "id": "83120fca",
   "metadata": {},
   "source": [
    "### Class Weight Stuff"
   ]
  },
  {
   "cell_type": "code",
   "execution_count": 1299,
   "id": "2aa156d8",
   "metadata": {},
   "outputs": [
    {
     "name": "stdout",
     "output_type": "stream",
     "text": [
      "Found 3613 files belonging to 4 classes.\n",
      "Using 2530 files for training.\n"
     ]
    }
   ],
   "source": [
    "train_ds_single_batch = keras.preprocessing.image_dataset_from_directory(ham_dataset_dir, validation_split=0.3, color_mode='rgb',\n",
    "                                                                         labels='inferred', shuffle=True, subset='training', image_size=(256, 256),\n",
    "                                                                         batch_size=1, seed=seed)"
   ]
  },
  {
   "cell_type": "code",
   "execution_count": 1300,
   "id": "cfef5998",
   "metadata": {},
   "outputs": [
    {
     "name": "stdout",
     "output_type": "stream",
     "text": [
      "[1.74242424 0.82356771 0.89210155 0.91666667]\n"
     ]
    }
   ],
   "source": [
    "y = np.array([label.numpy()[0] for _, label in train_ds_single_batch])\n",
    "class_weights_list = compute_class_weight('balanced', classes=np.unique(y), y=y)\n",
    "print(class_weights_list)\n",
    "class_weights = {}"
   ]
  },
  {
   "cell_type": "code",
   "execution_count": 1301,
   "id": "e00b5af1",
   "metadata": {},
   "outputs": [],
   "source": [
    "for i in range(len(class_weights_list)):\n",
    "    class_weights[i] = class_weights_list[i]"
   ]
  },
  {
   "cell_type": "markdown",
   "id": "d8695c70",
   "metadata": {},
   "source": [
    "### Define Model"
   ]
  },
  {
   "cell_type": "code",
   "execution_count": 1302,
   "id": "3b5351ae",
   "metadata": {},
   "outputs": [],
   "source": [
    "IMG_SHAPE = IMG_SIZE + (3,)\n",
    "base_model = tf.keras.applications.ResNet50(input_shape=IMG_SHAPE,\n",
    "                                               include_top=False,\n",
    "                                               weights='imagenet')"
   ]
  },
  {
   "cell_type": "code",
   "execution_count": 1303,
   "id": "58d80d95",
   "metadata": {},
   "outputs": [
    {
     "name": "stdout",
     "output_type": "stream",
     "text": [
      "(48, 7, 7, 2048)\n"
     ]
    }
   ],
   "source": [
    "image_batch, label_batch = next(iter(train_ds))\n",
    "feature_batch = base_model(image_batch)\n",
    "print(feature_batch.shape)"
   ]
  },
  {
   "cell_type": "code",
   "execution_count": 1304,
   "id": "63b0ead4",
   "metadata": {},
   "outputs": [
    {
     "name": "stdout",
     "output_type": "stream",
     "text": [
      "Model: \"resnet50\"\n",
      "__________________________________________________________________________________________________\n",
      " Layer (type)                   Output Shape         Param #     Connected to                     \n",
      "==================================================================================================\n",
      " input_57 (InputLayer)          [(None, 224, 224, 3  0           []                               \n",
      "                                )]                                                                \n",
      "                                                                                                  \n",
      " conv1_pad (ZeroPadding2D)      (None, 230, 230, 3)  0           ['input_57[0][0]']               \n",
      "                                                                                                  \n",
      " conv1_conv (Conv2D)            (None, 112, 112, 64  9472        ['conv1_pad[0][0]']              \n",
      "                                )                                                                 \n",
      "                                                                                                  \n",
      " conv1_bn (BatchNormalization)  (None, 112, 112, 64  256         ['conv1_conv[0][0]']             \n",
      "                                )                                                                 \n",
      "                                                                                                  \n",
      " conv1_relu (Activation)        (None, 112, 112, 64  0           ['conv1_bn[0][0]']               \n",
      "                                )                                                                 \n",
      "                                                                                                  \n",
      " pool1_pad (ZeroPadding2D)      (None, 114, 114, 64  0           ['conv1_relu[0][0]']             \n",
      "                                )                                                                 \n",
      "                                                                                                  \n",
      " pool1_pool (MaxPooling2D)      (None, 56, 56, 64)   0           ['pool1_pad[0][0]']              \n",
      "                                                                                                  \n",
      " conv2_block1_1_conv (Conv2D)   (None, 56, 56, 64)   4160        ['pool1_pool[0][0]']             \n",
      "                                                                                                  \n",
      " conv2_block1_1_bn (BatchNormal  (None, 56, 56, 64)  256         ['conv2_block1_1_conv[0][0]']    \n",
      " ization)                                                                                         \n",
      "                                                                                                  \n",
      " conv2_block1_1_relu (Activatio  (None, 56, 56, 64)  0           ['conv2_block1_1_bn[0][0]']      \n",
      " n)                                                                                               \n",
      "                                                                                                  \n",
      " conv2_block1_2_conv (Conv2D)   (None, 56, 56, 64)   36928       ['conv2_block1_1_relu[0][0]']    \n",
      "                                                                                                  \n",
      " conv2_block1_2_bn (BatchNormal  (None, 56, 56, 64)  256         ['conv2_block1_2_conv[0][0]']    \n",
      " ization)                                                                                         \n",
      "                                                                                                  \n",
      " conv2_block1_2_relu (Activatio  (None, 56, 56, 64)  0           ['conv2_block1_2_bn[0][0]']      \n",
      " n)                                                                                               \n",
      "                                                                                                  \n",
      " conv2_block1_0_conv (Conv2D)   (None, 56, 56, 256)  16640       ['pool1_pool[0][0]']             \n",
      "                                                                                                  \n",
      " conv2_block1_3_conv (Conv2D)   (None, 56, 56, 256)  16640       ['conv2_block1_2_relu[0][0]']    \n",
      "                                                                                                  \n",
      " conv2_block1_0_bn (BatchNormal  (None, 56, 56, 256)  1024       ['conv2_block1_0_conv[0][0]']    \n",
      " ization)                                                                                         \n",
      "                                                                                                  \n",
      " conv2_block1_3_bn (BatchNormal  (None, 56, 56, 256)  1024       ['conv2_block1_3_conv[0][0]']    \n",
      " ization)                                                                                         \n",
      "                                                                                                  \n",
      " conv2_block1_add (Add)         (None, 56, 56, 256)  0           ['conv2_block1_0_bn[0][0]',      \n",
      "                                                                  'conv2_block1_3_bn[0][0]']      \n",
      "                                                                                                  \n",
      " conv2_block1_out (Activation)  (None, 56, 56, 256)  0           ['conv2_block1_add[0][0]']       \n",
      "                                                                                                  \n",
      " conv2_block2_1_conv (Conv2D)   (None, 56, 56, 64)   16448       ['conv2_block1_out[0][0]']       \n",
      "                                                                                                  \n",
      " conv2_block2_1_bn (BatchNormal  (None, 56, 56, 64)  256         ['conv2_block2_1_conv[0][0]']    \n",
      " ization)                                                                                         \n",
      "                                                                                                  \n",
      " conv2_block2_1_relu (Activatio  (None, 56, 56, 64)  0           ['conv2_block2_1_bn[0][0]']      \n",
      " n)                                                                                               \n",
      "                                                                                                  \n",
      " conv2_block2_2_conv (Conv2D)   (None, 56, 56, 64)   36928       ['conv2_block2_1_relu[0][0]']    \n",
      "                                                                                                  \n",
      " conv2_block2_2_bn (BatchNormal  (None, 56, 56, 64)  256         ['conv2_block2_2_conv[0][0]']    \n",
      " ization)                                                                                         \n",
      "                                                                                                  \n",
      " conv2_block2_2_relu (Activatio  (None, 56, 56, 64)  0           ['conv2_block2_2_bn[0][0]']      \n",
      " n)                                                                                               \n",
      "                                                                                                  \n",
      " conv2_block2_3_conv (Conv2D)   (None, 56, 56, 256)  16640       ['conv2_block2_2_relu[0][0]']    \n",
      "                                                                                                  \n",
      " conv2_block2_3_bn (BatchNormal  (None, 56, 56, 256)  1024       ['conv2_block2_3_conv[0][0]']    \n",
      " ization)                                                                                         \n",
      "                                                                                                  \n",
      " conv2_block2_add (Add)         (None, 56, 56, 256)  0           ['conv2_block1_out[0][0]',       \n",
      "                                                                  'conv2_block2_3_bn[0][0]']      \n",
      "                                                                                                  \n",
      " conv2_block2_out (Activation)  (None, 56, 56, 256)  0           ['conv2_block2_add[0][0]']       \n",
      "                                                                                                  \n",
      " conv2_block3_1_conv (Conv2D)   (None, 56, 56, 64)   16448       ['conv2_block2_out[0][0]']       \n",
      "                                                                                                  \n",
      " conv2_block3_1_bn (BatchNormal  (None, 56, 56, 64)  256         ['conv2_block3_1_conv[0][0]']    \n",
      " ization)                                                                                         \n"
     ]
    },
    {
     "name": "stdout",
     "output_type": "stream",
     "text": [
      "                                                                                                  \n",
      " conv2_block3_1_relu (Activatio  (None, 56, 56, 64)  0           ['conv2_block3_1_bn[0][0]']      \n",
      " n)                                                                                               \n",
      "                                                                                                  \n",
      " conv2_block3_2_conv (Conv2D)   (None, 56, 56, 64)   36928       ['conv2_block3_1_relu[0][0]']    \n",
      "                                                                                                  \n",
      " conv2_block3_2_bn (BatchNormal  (None, 56, 56, 64)  256         ['conv2_block3_2_conv[0][0]']    \n",
      " ization)                                                                                         \n",
      "                                                                                                  \n",
      " conv2_block3_2_relu (Activatio  (None, 56, 56, 64)  0           ['conv2_block3_2_bn[0][0]']      \n",
      " n)                                                                                               \n",
      "                                                                                                  \n",
      " conv2_block3_3_conv (Conv2D)   (None, 56, 56, 256)  16640       ['conv2_block3_2_relu[0][0]']    \n",
      "                                                                                                  \n",
      " conv2_block3_3_bn (BatchNormal  (None, 56, 56, 256)  1024       ['conv2_block3_3_conv[0][0]']    \n",
      " ization)                                                                                         \n",
      "                                                                                                  \n",
      " conv2_block3_add (Add)         (None, 56, 56, 256)  0           ['conv2_block2_out[0][0]',       \n",
      "                                                                  'conv2_block3_3_bn[0][0]']      \n",
      "                                                                                                  \n",
      " conv2_block3_out (Activation)  (None, 56, 56, 256)  0           ['conv2_block3_add[0][0]']       \n",
      "                                                                                                  \n",
      " conv3_block1_1_conv (Conv2D)   (None, 28, 28, 128)  32896       ['conv2_block3_out[0][0]']       \n",
      "                                                                                                  \n",
      " conv3_block1_1_bn (BatchNormal  (None, 28, 28, 128)  512        ['conv3_block1_1_conv[0][0]']    \n",
      " ization)                                                                                         \n",
      "                                                                                                  \n",
      " conv3_block1_1_relu (Activatio  (None, 28, 28, 128)  0          ['conv3_block1_1_bn[0][0]']      \n",
      " n)                                                                                               \n",
      "                                                                                                  \n",
      " conv3_block1_2_conv (Conv2D)   (None, 28, 28, 128)  147584      ['conv3_block1_1_relu[0][0]']    \n",
      "                                                                                                  \n",
      " conv3_block1_2_bn (BatchNormal  (None, 28, 28, 128)  512        ['conv3_block1_2_conv[0][0]']    \n",
      " ization)                                                                                         \n",
      "                                                                                                  \n",
      " conv3_block1_2_relu (Activatio  (None, 28, 28, 128)  0          ['conv3_block1_2_bn[0][0]']      \n",
      " n)                                                                                               \n",
      "                                                                                                  \n",
      " conv3_block1_0_conv (Conv2D)   (None, 28, 28, 512)  131584      ['conv2_block3_out[0][0]']       \n",
      "                                                                                                  \n",
      " conv3_block1_3_conv (Conv2D)   (None, 28, 28, 512)  66048       ['conv3_block1_2_relu[0][0]']    \n",
      "                                                                                                  \n",
      " conv3_block1_0_bn (BatchNormal  (None, 28, 28, 512)  2048       ['conv3_block1_0_conv[0][0]']    \n",
      " ization)                                                                                         \n",
      "                                                                                                  \n",
      " conv3_block1_3_bn (BatchNormal  (None, 28, 28, 512)  2048       ['conv3_block1_3_conv[0][0]']    \n",
      " ization)                                                                                         \n",
      "                                                                                                  \n",
      " conv3_block1_add (Add)         (None, 28, 28, 512)  0           ['conv3_block1_0_bn[0][0]',      \n",
      "                                                                  'conv3_block1_3_bn[0][0]']      \n",
      "                                                                                                  \n",
      " conv3_block1_out (Activation)  (None, 28, 28, 512)  0           ['conv3_block1_add[0][0]']       \n",
      "                                                                                                  \n",
      " conv3_block2_1_conv (Conv2D)   (None, 28, 28, 128)  65664       ['conv3_block1_out[0][0]']       \n",
      "                                                                                                  \n",
      " conv3_block2_1_bn (BatchNormal  (None, 28, 28, 128)  512        ['conv3_block2_1_conv[0][0]']    \n",
      " ization)                                                                                         \n",
      "                                                                                                  \n",
      " conv3_block2_1_relu (Activatio  (None, 28, 28, 128)  0          ['conv3_block2_1_bn[0][0]']      \n",
      " n)                                                                                               \n",
      "                                                                                                  \n",
      " conv3_block2_2_conv (Conv2D)   (None, 28, 28, 128)  147584      ['conv3_block2_1_relu[0][0]']    \n",
      "                                                                                                  \n",
      " conv3_block2_2_bn (BatchNormal  (None, 28, 28, 128)  512        ['conv3_block2_2_conv[0][0]']    \n",
      " ization)                                                                                         \n",
      "                                                                                                  \n",
      " conv3_block2_2_relu (Activatio  (None, 28, 28, 128)  0          ['conv3_block2_2_bn[0][0]']      \n",
      " n)                                                                                               \n",
      "                                                                                                  \n",
      " conv3_block2_3_conv (Conv2D)   (None, 28, 28, 512)  66048       ['conv3_block2_2_relu[0][0]']    \n",
      "                                                                                                  \n",
      " conv3_block2_3_bn (BatchNormal  (None, 28, 28, 512)  2048       ['conv3_block2_3_conv[0][0]']    \n",
      " ization)                                                                                         \n",
      "                                                                                                  \n",
      " conv3_block2_add (Add)         (None, 28, 28, 512)  0           ['conv3_block1_out[0][0]',       \n",
      "                                                                  'conv3_block2_3_bn[0][0]']      \n",
      "                                                                                                  \n",
      " conv3_block2_out (Activation)  (None, 28, 28, 512)  0           ['conv3_block2_add[0][0]']       \n",
      "                                                                                                  \n",
      " conv3_block3_1_conv (Conv2D)   (None, 28, 28, 128)  65664       ['conv3_block2_out[0][0]']       \n",
      "                                                                                                  \n",
      " conv3_block3_1_bn (BatchNormal  (None, 28, 28, 128)  512        ['conv3_block3_1_conv[0][0]']    \n",
      " ization)                                                                                         \n"
     ]
    },
    {
     "name": "stdout",
     "output_type": "stream",
     "text": [
      "                                                                                                  \n",
      " conv3_block3_1_relu (Activatio  (None, 28, 28, 128)  0          ['conv3_block3_1_bn[0][0]']      \n",
      " n)                                                                                               \n",
      "                                                                                                  \n",
      " conv3_block3_2_conv (Conv2D)   (None, 28, 28, 128)  147584      ['conv3_block3_1_relu[0][0]']    \n",
      "                                                                                                  \n",
      " conv3_block3_2_bn (BatchNormal  (None, 28, 28, 128)  512        ['conv3_block3_2_conv[0][0]']    \n",
      " ization)                                                                                         \n",
      "                                                                                                  \n",
      " conv3_block3_2_relu (Activatio  (None, 28, 28, 128)  0          ['conv3_block3_2_bn[0][0]']      \n",
      " n)                                                                                               \n",
      "                                                                                                  \n",
      " conv3_block3_3_conv (Conv2D)   (None, 28, 28, 512)  66048       ['conv3_block3_2_relu[0][0]']    \n",
      "                                                                                                  \n",
      " conv3_block3_3_bn (BatchNormal  (None, 28, 28, 512)  2048       ['conv3_block3_3_conv[0][0]']    \n",
      " ization)                                                                                         \n",
      "                                                                                                  \n",
      " conv3_block3_add (Add)         (None, 28, 28, 512)  0           ['conv3_block2_out[0][0]',       \n",
      "                                                                  'conv3_block3_3_bn[0][0]']      \n",
      "                                                                                                  \n",
      " conv3_block3_out (Activation)  (None, 28, 28, 512)  0           ['conv3_block3_add[0][0]']       \n",
      "                                                                                                  \n",
      " conv3_block4_1_conv (Conv2D)   (None, 28, 28, 128)  65664       ['conv3_block3_out[0][0]']       \n",
      "                                                                                                  \n",
      " conv3_block4_1_bn (BatchNormal  (None, 28, 28, 128)  512        ['conv3_block4_1_conv[0][0]']    \n",
      " ization)                                                                                         \n",
      "                                                                                                  \n",
      " conv3_block4_1_relu (Activatio  (None, 28, 28, 128)  0          ['conv3_block4_1_bn[0][0]']      \n",
      " n)                                                                                               \n",
      "                                                                                                  \n",
      " conv3_block4_2_conv (Conv2D)   (None, 28, 28, 128)  147584      ['conv3_block4_1_relu[0][0]']    \n",
      "                                                                                                  \n",
      " conv3_block4_2_bn (BatchNormal  (None, 28, 28, 128)  512        ['conv3_block4_2_conv[0][0]']    \n",
      " ization)                                                                                         \n",
      "                                                                                                  \n",
      " conv3_block4_2_relu (Activatio  (None, 28, 28, 128)  0          ['conv3_block4_2_bn[0][0]']      \n",
      " n)                                                                                               \n",
      "                                                                                                  \n",
      " conv3_block4_3_conv (Conv2D)   (None, 28, 28, 512)  66048       ['conv3_block4_2_relu[0][0]']    \n",
      "                                                                                                  \n",
      " conv3_block4_3_bn (BatchNormal  (None, 28, 28, 512)  2048       ['conv3_block4_3_conv[0][0]']    \n",
      " ization)                                                                                         \n",
      "                                                                                                  \n",
      " conv3_block4_add (Add)         (None, 28, 28, 512)  0           ['conv3_block3_out[0][0]',       \n",
      "                                                                  'conv3_block4_3_bn[0][0]']      \n",
      "                                                                                                  \n",
      " conv3_block4_out (Activation)  (None, 28, 28, 512)  0           ['conv3_block4_add[0][0]']       \n",
      "                                                                                                  \n",
      " conv4_block1_1_conv (Conv2D)   (None, 14, 14, 256)  131328      ['conv3_block4_out[0][0]']       \n",
      "                                                                                                  \n",
      " conv4_block1_1_bn (BatchNormal  (None, 14, 14, 256)  1024       ['conv4_block1_1_conv[0][0]']    \n",
      " ization)                                                                                         \n",
      "                                                                                                  \n",
      " conv4_block1_1_relu (Activatio  (None, 14, 14, 256)  0          ['conv4_block1_1_bn[0][0]']      \n",
      " n)                                                                                               \n",
      "                                                                                                  \n",
      " conv4_block1_2_conv (Conv2D)   (None, 14, 14, 256)  590080      ['conv4_block1_1_relu[0][0]']    \n",
      "                                                                                                  \n",
      " conv4_block1_2_bn (BatchNormal  (None, 14, 14, 256)  1024       ['conv4_block1_2_conv[0][0]']    \n",
      " ization)                                                                                         \n",
      "                                                                                                  \n",
      " conv4_block1_2_relu (Activatio  (None, 14, 14, 256)  0          ['conv4_block1_2_bn[0][0]']      \n",
      " n)                                                                                               \n",
      "                                                                                                  \n",
      " conv4_block1_0_conv (Conv2D)   (None, 14, 14, 1024  525312      ['conv3_block4_out[0][0]']       \n",
      "                                )                                                                 \n",
      "                                                                                                  \n",
      " conv4_block1_3_conv (Conv2D)   (None, 14, 14, 1024  263168      ['conv4_block1_2_relu[0][0]']    \n",
      "                                )                                                                 \n",
      "                                                                                                  \n",
      " conv4_block1_0_bn (BatchNormal  (None, 14, 14, 1024  4096       ['conv4_block1_0_conv[0][0]']    \n",
      " ization)                       )                                                                 \n",
      "                                                                                                  \n",
      " conv4_block1_3_bn (BatchNormal  (None, 14, 14, 1024  4096       ['conv4_block1_3_conv[0][0]']    \n",
      " ization)                       )                                                                 \n",
      "                                                                                                  \n",
      " conv4_block1_add (Add)         (None, 14, 14, 1024  0           ['conv4_block1_0_bn[0][0]',      \n",
      "                                )                                 'conv4_block1_3_bn[0][0]']      \n",
      "                                                                                                  \n",
      " conv4_block1_out (Activation)  (None, 14, 14, 1024  0           ['conv4_block1_add[0][0]']       \n",
      "                                )                                                                 \n",
      "                                                                                                  \n",
      " conv4_block2_1_conv (Conv2D)   (None, 14, 14, 256)  262400      ['conv4_block1_out[0][0]']       \n"
     ]
    },
    {
     "name": "stdout",
     "output_type": "stream",
     "text": [
      "                                                                                                  \n",
      " conv4_block2_1_bn (BatchNormal  (None, 14, 14, 256)  1024       ['conv4_block2_1_conv[0][0]']    \n",
      " ization)                                                                                         \n",
      "                                                                                                  \n",
      " conv4_block2_1_relu (Activatio  (None, 14, 14, 256)  0          ['conv4_block2_1_bn[0][0]']      \n",
      " n)                                                                                               \n",
      "                                                                                                  \n",
      " conv4_block2_2_conv (Conv2D)   (None, 14, 14, 256)  590080      ['conv4_block2_1_relu[0][0]']    \n",
      "                                                                                                  \n",
      " conv4_block2_2_bn (BatchNormal  (None, 14, 14, 256)  1024       ['conv4_block2_2_conv[0][0]']    \n",
      " ization)                                                                                         \n",
      "                                                                                                  \n",
      " conv4_block2_2_relu (Activatio  (None, 14, 14, 256)  0          ['conv4_block2_2_bn[0][0]']      \n",
      " n)                                                                                               \n",
      "                                                                                                  \n",
      " conv4_block2_3_conv (Conv2D)   (None, 14, 14, 1024  263168      ['conv4_block2_2_relu[0][0]']    \n",
      "                                )                                                                 \n",
      "                                                                                                  \n",
      " conv4_block2_3_bn (BatchNormal  (None, 14, 14, 1024  4096       ['conv4_block2_3_conv[0][0]']    \n",
      " ization)                       )                                                                 \n",
      "                                                                                                  \n",
      " conv4_block2_add (Add)         (None, 14, 14, 1024  0           ['conv4_block1_out[0][0]',       \n",
      "                                )                                 'conv4_block2_3_bn[0][0]']      \n",
      "                                                                                                  \n",
      " conv4_block2_out (Activation)  (None, 14, 14, 1024  0           ['conv4_block2_add[0][0]']       \n",
      "                                )                                                                 \n",
      "                                                                                                  \n",
      " conv4_block3_1_conv (Conv2D)   (None, 14, 14, 256)  262400      ['conv4_block2_out[0][0]']       \n",
      "                                                                                                  \n",
      " conv4_block3_1_bn (BatchNormal  (None, 14, 14, 256)  1024       ['conv4_block3_1_conv[0][0]']    \n",
      " ization)                                                                                         \n",
      "                                                                                                  \n",
      " conv4_block3_1_relu (Activatio  (None, 14, 14, 256)  0          ['conv4_block3_1_bn[0][0]']      \n",
      " n)                                                                                               \n",
      "                                                                                                  \n",
      " conv4_block3_2_conv (Conv2D)   (None, 14, 14, 256)  590080      ['conv4_block3_1_relu[0][0]']    \n",
      "                                                                                                  \n",
      " conv4_block3_2_bn (BatchNormal  (None, 14, 14, 256)  1024       ['conv4_block3_2_conv[0][0]']    \n",
      " ization)                                                                                         \n",
      "                                                                                                  \n",
      " conv4_block3_2_relu (Activatio  (None, 14, 14, 256)  0          ['conv4_block3_2_bn[0][0]']      \n",
      " n)                                                                                               \n",
      "                                                                                                  \n",
      " conv4_block3_3_conv (Conv2D)   (None, 14, 14, 1024  263168      ['conv4_block3_2_relu[0][0]']    \n",
      "                                )                                                                 \n",
      "                                                                                                  \n",
      " conv4_block3_3_bn (BatchNormal  (None, 14, 14, 1024  4096       ['conv4_block3_3_conv[0][0]']    \n",
      " ization)                       )                                                                 \n",
      "                                                                                                  \n",
      " conv4_block3_add (Add)         (None, 14, 14, 1024  0           ['conv4_block2_out[0][0]',       \n",
      "                                )                                 'conv4_block3_3_bn[0][0]']      \n",
      "                                                                                                  \n",
      " conv4_block3_out (Activation)  (None, 14, 14, 1024  0           ['conv4_block3_add[0][0]']       \n",
      "                                )                                                                 \n",
      "                                                                                                  \n",
      " conv4_block4_1_conv (Conv2D)   (None, 14, 14, 256)  262400      ['conv4_block3_out[0][0]']       \n",
      "                                                                                                  \n",
      " conv4_block4_1_bn (BatchNormal  (None, 14, 14, 256)  1024       ['conv4_block4_1_conv[0][0]']    \n",
      " ization)                                                                                         \n",
      "                                                                                                  \n",
      " conv4_block4_1_relu (Activatio  (None, 14, 14, 256)  0          ['conv4_block4_1_bn[0][0]']      \n",
      " n)                                                                                               \n",
      "                                                                                                  \n",
      " conv4_block4_2_conv (Conv2D)   (None, 14, 14, 256)  590080      ['conv4_block4_1_relu[0][0]']    \n",
      "                                                                                                  \n",
      " conv4_block4_2_bn (BatchNormal  (None, 14, 14, 256)  1024       ['conv4_block4_2_conv[0][0]']    \n",
      " ization)                                                                                         \n",
      "                                                                                                  \n",
      " conv4_block4_2_relu (Activatio  (None, 14, 14, 256)  0          ['conv4_block4_2_bn[0][0]']      \n",
      " n)                                                                                               \n",
      "                                                                                                  \n",
      " conv4_block4_3_conv (Conv2D)   (None, 14, 14, 1024  263168      ['conv4_block4_2_relu[0][0]']    \n",
      "                                )                                                                 \n",
      "                                                                                                  \n",
      " conv4_block4_3_bn (BatchNormal  (None, 14, 14, 1024  4096       ['conv4_block4_3_conv[0][0]']    \n",
      " ization)                       )                                                                 \n",
      "                                                                                                  \n",
      " conv4_block4_add (Add)         (None, 14, 14, 1024  0           ['conv4_block3_out[0][0]',       \n",
      "                                )                                 'conv4_block4_3_bn[0][0]']      \n",
      "                                                                                                  \n",
      " conv4_block4_out (Activation)  (None, 14, 14, 1024  0           ['conv4_block4_add[0][0]']       \n",
      "                                )                                                                 \n",
      "                                                                                                  \n"
     ]
    },
    {
     "name": "stdout",
     "output_type": "stream",
     "text": [
      " conv4_block5_1_conv (Conv2D)   (None, 14, 14, 256)  262400      ['conv4_block4_out[0][0]']       \n",
      "                                                                                                  \n",
      " conv4_block5_1_bn (BatchNormal  (None, 14, 14, 256)  1024       ['conv4_block5_1_conv[0][0]']    \n",
      " ization)                                                                                         \n",
      "                                                                                                  \n",
      " conv4_block5_1_relu (Activatio  (None, 14, 14, 256)  0          ['conv4_block5_1_bn[0][0]']      \n",
      " n)                                                                                               \n",
      "                                                                                                  \n",
      " conv4_block5_2_conv (Conv2D)   (None, 14, 14, 256)  590080      ['conv4_block5_1_relu[0][0]']    \n",
      "                                                                                                  \n",
      " conv4_block5_2_bn (BatchNormal  (None, 14, 14, 256)  1024       ['conv4_block5_2_conv[0][0]']    \n",
      " ization)                                                                                         \n",
      "                                                                                                  \n",
      " conv4_block5_2_relu (Activatio  (None, 14, 14, 256)  0          ['conv4_block5_2_bn[0][0]']      \n",
      " n)                                                                                               \n",
      "                                                                                                  \n",
      " conv4_block5_3_conv (Conv2D)   (None, 14, 14, 1024  263168      ['conv4_block5_2_relu[0][0]']    \n",
      "                                )                                                                 \n",
      "                                                                                                  \n",
      " conv4_block5_3_bn (BatchNormal  (None, 14, 14, 1024  4096       ['conv4_block5_3_conv[0][0]']    \n",
      " ization)                       )                                                                 \n",
      "                                                                                                  \n",
      " conv4_block5_add (Add)         (None, 14, 14, 1024  0           ['conv4_block4_out[0][0]',       \n",
      "                                )                                 'conv4_block5_3_bn[0][0]']      \n",
      "                                                                                                  \n",
      " conv4_block5_out (Activation)  (None, 14, 14, 1024  0           ['conv4_block5_add[0][0]']       \n",
      "                                )                                                                 \n",
      "                                                                                                  \n",
      " conv4_block6_1_conv (Conv2D)   (None, 14, 14, 256)  262400      ['conv4_block5_out[0][0]']       \n",
      "                                                                                                  \n",
      " conv4_block6_1_bn (BatchNormal  (None, 14, 14, 256)  1024       ['conv4_block6_1_conv[0][0]']    \n",
      " ization)                                                                                         \n",
      "                                                                                                  \n",
      " conv4_block6_1_relu (Activatio  (None, 14, 14, 256)  0          ['conv4_block6_1_bn[0][0]']      \n",
      " n)                                                                                               \n",
      "                                                                                                  \n",
      " conv4_block6_2_conv (Conv2D)   (None, 14, 14, 256)  590080      ['conv4_block6_1_relu[0][0]']    \n",
      "                                                                                                  \n",
      " conv4_block6_2_bn (BatchNormal  (None, 14, 14, 256)  1024       ['conv4_block6_2_conv[0][0]']    \n",
      " ization)                                                                                         \n",
      "                                                                                                  \n",
      " conv4_block6_2_relu (Activatio  (None, 14, 14, 256)  0          ['conv4_block6_2_bn[0][0]']      \n",
      " n)                                                                                               \n",
      "                                                                                                  \n",
      " conv4_block6_3_conv (Conv2D)   (None, 14, 14, 1024  263168      ['conv4_block6_2_relu[0][0]']    \n",
      "                                )                                                                 \n",
      "                                                                                                  \n",
      " conv4_block6_3_bn (BatchNormal  (None, 14, 14, 1024  4096       ['conv4_block6_3_conv[0][0]']    \n",
      " ization)                       )                                                                 \n",
      "                                                                                                  \n",
      " conv4_block6_add (Add)         (None, 14, 14, 1024  0           ['conv4_block5_out[0][0]',       \n",
      "                                )                                 'conv4_block6_3_bn[0][0]']      \n",
      "                                                                                                  \n",
      " conv4_block6_out (Activation)  (None, 14, 14, 1024  0           ['conv4_block6_add[0][0]']       \n",
      "                                )                                                                 \n",
      "                                                                                                  \n",
      " conv5_block1_1_conv (Conv2D)   (None, 7, 7, 512)    524800      ['conv4_block6_out[0][0]']       \n",
      "                                                                                                  \n",
      " conv5_block1_1_bn (BatchNormal  (None, 7, 7, 512)   2048        ['conv5_block1_1_conv[0][0]']    \n",
      " ization)                                                                                         \n",
      "                                                                                                  \n",
      " conv5_block1_1_relu (Activatio  (None, 7, 7, 512)   0           ['conv5_block1_1_bn[0][0]']      \n",
      " n)                                                                                               \n",
      "                                                                                                  \n",
      " conv5_block1_2_conv (Conv2D)   (None, 7, 7, 512)    2359808     ['conv5_block1_1_relu[0][0]']    \n",
      "                                                                                                  \n",
      " conv5_block1_2_bn (BatchNormal  (None, 7, 7, 512)   2048        ['conv5_block1_2_conv[0][0]']    \n",
      " ization)                                                                                         \n",
      "                                                                                                  \n",
      " conv5_block1_2_relu (Activatio  (None, 7, 7, 512)   0           ['conv5_block1_2_bn[0][0]']      \n",
      " n)                                                                                               \n",
      "                                                                                                  \n",
      " conv5_block1_0_conv (Conv2D)   (None, 7, 7, 2048)   2099200     ['conv4_block6_out[0][0]']       \n",
      "                                                                                                  \n",
      " conv5_block1_3_conv (Conv2D)   (None, 7, 7, 2048)   1050624     ['conv5_block1_2_relu[0][0]']    \n",
      "                                                                                                  \n",
      " conv5_block1_0_bn (BatchNormal  (None, 7, 7, 2048)  8192        ['conv5_block1_0_conv[0][0]']    \n",
      " ization)                                                                                         \n",
      "                                                                                                  \n",
      " conv5_block1_3_bn (BatchNormal  (None, 7, 7, 2048)  8192        ['conv5_block1_3_conv[0][0]']    \n",
      " ization)                                                                                         \n",
      "                                                                                                  \n",
      " conv5_block1_add (Add)         (None, 7, 7, 2048)   0           ['conv5_block1_0_bn[0][0]',      \n"
     ]
    },
    {
     "name": "stdout",
     "output_type": "stream",
     "text": [
      "                                                                  'conv5_block1_3_bn[0][0]']      \n",
      "                                                                                                  \n",
      " conv5_block1_out (Activation)  (None, 7, 7, 2048)   0           ['conv5_block1_add[0][0]']       \n",
      "                                                                                                  \n",
      " conv5_block2_1_conv (Conv2D)   (None, 7, 7, 512)    1049088     ['conv5_block1_out[0][0]']       \n",
      "                                                                                                  \n",
      " conv5_block2_1_bn (BatchNormal  (None, 7, 7, 512)   2048        ['conv5_block2_1_conv[0][0]']    \n",
      " ization)                                                                                         \n",
      "                                                                                                  \n",
      " conv5_block2_1_relu (Activatio  (None, 7, 7, 512)   0           ['conv5_block2_1_bn[0][0]']      \n",
      " n)                                                                                               \n",
      "                                                                                                  \n",
      " conv5_block2_2_conv (Conv2D)   (None, 7, 7, 512)    2359808     ['conv5_block2_1_relu[0][0]']    \n",
      "                                                                                                  \n",
      " conv5_block2_2_bn (BatchNormal  (None, 7, 7, 512)   2048        ['conv5_block2_2_conv[0][0]']    \n",
      " ization)                                                                                         \n",
      "                                                                                                  \n",
      " conv5_block2_2_relu (Activatio  (None, 7, 7, 512)   0           ['conv5_block2_2_bn[0][0]']      \n",
      " n)                                                                                               \n",
      "                                                                                                  \n",
      " conv5_block2_3_conv (Conv2D)   (None, 7, 7, 2048)   1050624     ['conv5_block2_2_relu[0][0]']    \n",
      "                                                                                                  \n",
      " conv5_block2_3_bn (BatchNormal  (None, 7, 7, 2048)  8192        ['conv5_block2_3_conv[0][0]']    \n",
      " ization)                                                                                         \n",
      "                                                                                                  \n",
      " conv5_block2_add (Add)         (None, 7, 7, 2048)   0           ['conv5_block1_out[0][0]',       \n",
      "                                                                  'conv5_block2_3_bn[0][0]']      \n",
      "                                                                                                  \n",
      " conv5_block2_out (Activation)  (None, 7, 7, 2048)   0           ['conv5_block2_add[0][0]']       \n",
      "                                                                                                  \n",
      " conv5_block3_1_conv (Conv2D)   (None, 7, 7, 512)    1049088     ['conv5_block2_out[0][0]']       \n",
      "                                                                                                  \n",
      " conv5_block3_1_bn (BatchNormal  (None, 7, 7, 512)   2048        ['conv5_block3_1_conv[0][0]']    \n",
      " ization)                                                                                         \n",
      "                                                                                                  \n",
      " conv5_block3_1_relu (Activatio  (None, 7, 7, 512)   0           ['conv5_block3_1_bn[0][0]']      \n",
      " n)                                                                                               \n",
      "                                                                                                  \n",
      " conv5_block3_2_conv (Conv2D)   (None, 7, 7, 512)    2359808     ['conv5_block3_1_relu[0][0]']    \n",
      "                                                                                                  \n",
      " conv5_block3_2_bn (BatchNormal  (None, 7, 7, 512)   2048        ['conv5_block3_2_conv[0][0]']    \n",
      " ization)                                                                                         \n",
      "                                                                                                  \n",
      " conv5_block3_2_relu (Activatio  (None, 7, 7, 512)   0           ['conv5_block3_2_bn[0][0]']      \n",
      " n)                                                                                               \n",
      "                                                                                                  \n",
      " conv5_block3_3_conv (Conv2D)   (None, 7, 7, 2048)   1050624     ['conv5_block3_2_relu[0][0]']    \n",
      "                                                                                                  \n",
      " conv5_block3_3_bn (BatchNormal  (None, 7, 7, 2048)  8192        ['conv5_block3_3_conv[0][0]']    \n",
      " ization)                                                                                         \n",
      "                                                                                                  \n",
      " conv5_block3_add (Add)         (None, 7, 7, 2048)   0           ['conv5_block2_out[0][0]',       \n",
      "                                                                  'conv5_block3_3_bn[0][0]']      \n",
      "                                                                                                  \n",
      " conv5_block3_out (Activation)  (None, 7, 7, 2048)   0           ['conv5_block3_add[0][0]']       \n",
      "                                                                                                  \n",
      "==================================================================================================\n",
      "Total params: 23,587,712\n",
      "Trainable params: 0\n",
      "Non-trainable params: 23,587,712\n",
      "__________________________________________________________________________________________________\n"
     ]
    }
   ],
   "source": [
    "base_model.trainable = False\n",
    "base_model.summary()"
   ]
  },
  {
   "cell_type": "code",
   "execution_count": 1305,
   "id": "d183a51e",
   "metadata": {},
   "outputs": [
    {
     "name": "stdout",
     "output_type": "stream",
     "text": [
      "(48, 2048)\n"
     ]
    }
   ],
   "source": [
    "global_average_layer = tf.keras.layers.GlobalAveragePooling2D()\n",
    "feature_batch_average = global_average_layer(feature_batch)\n",
    "print(feature_batch_average.shape)"
   ]
  },
  {
   "cell_type": "code",
   "execution_count": 1306,
   "id": "be2695f4",
   "metadata": {},
   "outputs": [
    {
     "name": "stdout",
     "output_type": "stream",
     "text": [
      "(48, 4)\n"
     ]
    }
   ],
   "source": [
    "prediction_layer = tf.keras.layers.Dense(4, activation='softmax')\n",
    "prediction_batch = prediction_layer(feature_batch_average)\n",
    "print(prediction_batch.shape)"
   ]
  },
  {
   "cell_type": "code",
   "execution_count": 1307,
   "id": "6e829d0d",
   "metadata": {},
   "outputs": [],
   "source": [
    "preprocess_input = tf.keras.applications.resnet50.preprocess_input"
   ]
  },
  {
   "cell_type": "code",
   "execution_count": 1308,
   "id": "87a46421",
   "metadata": {},
   "outputs": [],
   "source": [
    "inputs = tf.keras.Input(shape=IMG_SHAPE)\n",
    "x = data_augmentation(inputs)\n",
    "x = preprocess_input(x)\n",
    "x = base_model(x, training=False)\n",
    "x = global_average_layer(x)\n",
    "x = tf.keras.layers.Dropout(0.2)(x)\n",
    "outputs = prediction_layer(x)\n",
    "model = tf.keras.Model(inputs, outputs)"
   ]
  },
  {
   "cell_type": "code",
   "execution_count": 1309,
   "id": "1d123f3a",
   "metadata": {},
   "outputs": [],
   "source": [
    "# base_learning_rate = 0.0001\n",
    "# model.compile(optimizer=tf.keras.optimizers.Adam(learning_rate=base_learning_rate),\n",
    "#               loss=tf.keras.losses.categorical_crossentropy,\n",
    "#               metrics=['accuracy'])"
   ]
  },
  {
   "cell_type": "markdown",
   "id": "226aabad",
   "metadata": {},
   "source": [
    "### Fine-Tune Model"
   ]
  },
  {
   "cell_type": "code",
   "execution_count": 1310,
   "id": "7273a4f2",
   "metadata": {},
   "outputs": [],
   "source": [
    "# Make bottom layers trainable\n",
    "base_model.trainable = True"
   ]
  },
  {
   "cell_type": "code",
   "execution_count": 1311,
   "id": "a2eb0122",
   "metadata": {},
   "outputs": [
    {
     "name": "stdout",
     "output_type": "stream",
     "text": [
      "Number of layers in the base model:  175\n"
     ]
    }
   ],
   "source": [
    "# Let's take a look to see how many layers are in the base model\n",
    "print(\"Number of layers in the base model: \", len(base_model.layers))\n",
    "\n",
    "# Fine-tune from this layer onwards\n",
    "fine_tune_at = 100\n",
    "\n",
    "# Freeze all the layers before the `fine_tune_at` layer\n",
    "for layer in base_model.layers[:fine_tune_at]:\n",
    "    layer.trainable =  False"
   ]
  },
  {
   "cell_type": "code",
   "execution_count": 1312,
   "id": "25c33df6",
   "metadata": {},
   "outputs": [],
   "source": [
    "base_learning_rate = 0.0001\n",
    "model.compile(optimizer=tf.keras.optimizers.RMSprop(learning_rate=base_learning_rate/10),\n",
    "              loss=tf.keras.losses.categorical_crossentropy,\n",
    "              metrics=['accuracy'])"
   ]
  },
  {
   "cell_type": "code",
   "execution_count": 1313,
   "id": "4fbe572f",
   "metadata": {},
   "outputs": [],
   "source": [
    "# model.compile(optimizer='Adam',loss='categorical_crossentropy',metrics=['accuracy'])"
   ]
  },
  {
   "cell_type": "code",
   "execution_count": 1314,
   "id": "54e2f27e",
   "metadata": {},
   "outputs": [
    {
     "name": "stdout",
     "output_type": "stream",
     "text": [
      "Model: \"model_28\"\n",
      "_________________________________________________________________\n",
      " Layer (type)                Output Shape              Param #   \n",
      "=================================================================\n",
      " input_58 (InputLayer)       [(None, 224, 224, 3)]     0         \n",
      "                                                                 \n",
      " sequential_29 (Sequential)  (None, 224, 224, 3)       0         \n",
      "                                                                 \n",
      " tf.__operators__.getitem_28  (None, 224, 224, 3)      0         \n",
      "  (SlicingOpLambda)                                              \n",
      "                                                                 \n",
      " tf.nn.bias_add_28 (TFOpLamb  (None, 224, 224, 3)      0         \n",
      " da)                                                             \n",
      "                                                                 \n",
      " resnet50 (Functional)       (None, 7, 7, 2048)        23587712  \n",
      "                                                                 \n",
      " global_average_pooling2d_28  (None, 2048)             0         \n",
      "  (GlobalAveragePooling2D)                                       \n",
      "                                                                 \n",
      " dropout_28 (Dropout)        (None, 2048)              0         \n",
      "                                                                 \n",
      " dense_28 (Dense)            (None, 4)                 8196      \n",
      "                                                                 \n",
      "=================================================================\n",
      "Total params: 23,595,908\n",
      "Trainable params: 19,461,124\n",
      "Non-trainable params: 4,134,784\n",
      "_________________________________________________________________\n"
     ]
    }
   ],
   "source": [
    "model.summary()"
   ]
  },
  {
   "cell_type": "code",
   "execution_count": 1315,
   "id": "342704b8",
   "metadata": {},
   "outputs": [
    {
     "data": {
      "text/plain": [
       "92"
      ]
     },
     "execution_count": 1315,
     "metadata": {},
     "output_type": "execute_result"
    }
   ],
   "source": [
    "len(model.trainable_variables)"
   ]
  },
  {
   "cell_type": "markdown",
   "id": "64b1bdac",
   "metadata": {},
   "source": [
    "### Model Training"
   ]
  },
  {
   "cell_type": "code",
   "execution_count": 1316,
   "id": "2ac2798b",
   "metadata": {},
   "outputs": [
    {
     "name": "stdout",
     "output_type": "stream",
     "text": [
      "9/9 [==============================] - 2s 90ms/step - loss: 1.5800 - accuracy: 0.2555\n"
     ]
    }
   ],
   "source": [
    "initial_epochs = 50\n",
    "loss0, accuracy0 = model.evaluate(val_ds)"
   ]
  },
  {
   "cell_type": "code",
   "execution_count": 1317,
   "id": "ea1af8f8",
   "metadata": {},
   "outputs": [
    {
     "name": "stdout",
     "output_type": "stream",
     "text": [
      "initial loss: 1.58\n",
      "initial accuracy: 0.26\n"
     ]
    }
   ],
   "source": [
    "print(\"initial loss: {:.2f}\".format(loss0))\n",
    "print(\"initial accuracy: {:.2f}\".format(accuracy0))"
   ]
  },
  {
   "cell_type": "code",
   "execution_count": 1318,
   "id": "96b180c5",
   "metadata": {},
   "outputs": [
    {
     "name": "stdout",
     "output_type": "stream",
     "text": [
      "Epoch 1/50\n",
      "53/53 [==============================] - 17s 245ms/step - loss: 0.8753 - accuracy: 0.6466 - val_loss: 0.8487 - val_accuracy: 0.6667\n",
      "Epoch 2/50\n",
      "53/53 [==============================] - 12s 225ms/step - loss: 0.6318 - accuracy: 0.7565 - val_loss: 0.7192 - val_accuracy: 0.7105\n",
      "Epoch 3/50\n",
      "53/53 [==============================] - 12s 227ms/step - loss: 0.5460 - accuracy: 0.7976 - val_loss: 0.6698 - val_accuracy: 0.7348\n",
      "Epoch 4/50\n",
      "53/53 [==============================] - 12s 228ms/step - loss: 0.5096 - accuracy: 0.8004 - val_loss: 0.6353 - val_accuracy: 0.7567\n",
      "Epoch 5/50\n",
      "53/53 [==============================] - 12s 228ms/step - loss: 0.4691 - accuracy: 0.8198 - val_loss: 0.5886 - val_accuracy: 0.7543\n",
      "Epoch 6/50\n",
      "53/53 [==============================] - 12s 228ms/step - loss: 0.4475 - accuracy: 0.8209 - val_loss: 0.5179 - val_accuracy: 0.7908\n",
      "Epoch 7/50\n",
      "53/53 [==============================] - 12s 227ms/step - loss: 0.4151 - accuracy: 0.8403 - val_loss: 0.4861 - val_accuracy: 0.8078\n",
      "Epoch 8/50\n",
      "53/53 [==============================] - 12s 229ms/step - loss: 0.3907 - accuracy: 0.8510 - val_loss: 0.5870 - val_accuracy: 0.7713\n",
      "Epoch 9/50\n",
      "53/53 [==============================] - 12s 227ms/step - loss: 0.3564 - accuracy: 0.8684 - val_loss: 0.4658 - val_accuracy: 0.8200\n",
      "Epoch 10/50\n",
      "53/53 [==============================] - 12s 227ms/step - loss: 0.3629 - accuracy: 0.8593 - val_loss: 0.4830 - val_accuracy: 0.8345\n",
      "Epoch 11/50\n",
      "53/53 [==============================] - 12s 227ms/step - loss: 0.3489 - accuracy: 0.8668 - val_loss: 0.4505 - val_accuracy: 0.8200\n",
      "Epoch 12/50\n",
      "53/53 [==============================] - 12s 229ms/step - loss: 0.3294 - accuracy: 0.8692 - val_loss: 0.4494 - val_accuracy: 0.8443\n",
      "Epoch 13/50\n",
      "53/53 [==============================] - 12s 227ms/step - loss: 0.3123 - accuracy: 0.8771 - val_loss: 0.5149 - val_accuracy: 0.8078\n",
      "Epoch 14/50\n",
      "53/53 [==============================] - 12s 226ms/step - loss: 0.2840 - accuracy: 0.8933 - val_loss: 0.5033 - val_accuracy: 0.8127\n",
      "Epoch 15/50\n",
      "53/53 [==============================] - 12s 227ms/step - loss: 0.2884 - accuracy: 0.8953 - val_loss: 0.3896 - val_accuracy: 0.8613\n",
      "Epoch 16/50\n",
      "53/53 [==============================] - 12s 228ms/step - loss: 0.2610 - accuracy: 0.9028 - val_loss: 0.4428 - val_accuracy: 0.8297\n",
      "Epoch 17/50\n",
      "53/53 [==============================] - 12s 228ms/step - loss: 0.2560 - accuracy: 0.9051 - val_loss: 0.5315 - val_accuracy: 0.8102\n",
      "Epoch 18/50\n",
      "53/53 [==============================] - 12s 227ms/step - loss: 0.2451 - accuracy: 0.8992 - val_loss: 0.5674 - val_accuracy: 0.8175\n",
      "Epoch 19/50\n",
      "53/53 [==============================] - 12s 229ms/step - loss: 0.2418 - accuracy: 0.9115 - val_loss: 0.5380 - val_accuracy: 0.8491\n",
      "Epoch 20/50\n",
      "53/53 [==============================] - 12s 227ms/step - loss: 0.2387 - accuracy: 0.9107 - val_loss: 0.3936 - val_accuracy: 0.8662\n",
      "Epoch 21/50\n",
      "53/53 [==============================] - 12s 227ms/step - loss: 0.2257 - accuracy: 0.9107 - val_loss: 0.5302 - val_accuracy: 0.8321\n",
      "Epoch 22/50\n",
      "53/53 [==============================] - 13s 233ms/step - loss: 0.2115 - accuracy: 0.9206 - val_loss: 0.3999 - val_accuracy: 0.8686\n",
      "Epoch 23/50\n",
      "53/53 [==============================] - 13s 240ms/step - loss: 0.2093 - accuracy: 0.9206 - val_loss: 0.5938 - val_accuracy: 0.8127\n",
      "Epoch 24/50\n",
      "53/53 [==============================] - 13s 235ms/step - loss: 0.1922 - accuracy: 0.9221 - val_loss: 0.3919 - val_accuracy: 0.8686\n",
      "Epoch 25/50\n",
      "53/53 [==============================] - 13s 241ms/step - loss: 0.1861 - accuracy: 0.9320 - val_loss: 0.4134 - val_accuracy: 0.8710\n",
      "Epoch 26/50\n",
      "53/53 [==============================] - 12s 232ms/step - loss: 0.1771 - accuracy: 0.9320 - val_loss: 0.7592 - val_accuracy: 0.7956\n",
      "Epoch 27/50\n",
      "53/53 [==============================] - 12s 227ms/step - loss: 0.1790 - accuracy: 0.9312 - val_loss: 0.4966 - val_accuracy: 0.8418\n",
      "Epoch 28/50\n",
      "53/53 [==============================] - 12s 228ms/step - loss: 0.1706 - accuracy: 0.9296 - val_loss: 0.5837 - val_accuracy: 0.8345\n",
      "Epoch 29/50\n",
      "53/53 [==============================] - 12s 229ms/step - loss: 0.1778 - accuracy: 0.9340 - val_loss: 0.4600 - val_accuracy: 0.8516\n",
      "Epoch 30/50\n",
      "53/53 [==============================] - 12s 228ms/step - loss: 0.1557 - accuracy: 0.9399 - val_loss: 0.4111 - val_accuracy: 0.8808\n",
      "Epoch 31/50\n",
      "53/53 [==============================] - 12s 228ms/step - loss: 0.1682 - accuracy: 0.9364 - val_loss: 0.3173 - val_accuracy: 0.8905\n",
      "Epoch 32/50\n",
      "53/53 [==============================] - 12s 227ms/step - loss: 0.1568 - accuracy: 0.9427 - val_loss: 0.5004 - val_accuracy: 0.8516\n",
      "Epoch 33/50\n",
      "53/53 [==============================] - 12s 231ms/step - loss: 0.1538 - accuracy: 0.9443 - val_loss: 0.4625 - val_accuracy: 0.8467\n",
      "Epoch 34/50\n",
      "53/53 [==============================] - 12s 228ms/step - loss: 0.1389 - accuracy: 0.9458 - val_loss: 0.3432 - val_accuracy: 0.8832\n",
      "Epoch 35/50\n",
      "53/53 [==============================] - 12s 225ms/step - loss: 0.1374 - accuracy: 0.9498 - val_loss: 0.7476 - val_accuracy: 0.8443\n",
      "Epoch 36/50\n",
      "53/53 [==============================] - 12s 228ms/step - loss: 0.1388 - accuracy: 0.9470 - val_loss: 0.5320 - val_accuracy: 0.8808\n",
      "Epoch 37/50\n",
      "53/53 [==============================] - 12s 227ms/step - loss: 0.1147 - accuracy: 0.9577 - val_loss: 0.4803 - val_accuracy: 0.8467\n",
      "Epoch 38/50\n",
      "53/53 [==============================] - 12s 226ms/step - loss: 0.1291 - accuracy: 0.9498 - val_loss: 0.5512 - val_accuracy: 0.8540\n",
      "Epoch 39/50\n",
      "53/53 [==============================] - 12s 230ms/step - loss: 0.1077 - accuracy: 0.9597 - val_loss: 0.5436 - val_accuracy: 0.8783\n",
      "Epoch 40/50\n",
      "53/53 [==============================] - 12s 228ms/step - loss: 0.1143 - accuracy: 0.9561 - val_loss: 0.4080 - val_accuracy: 0.8808\n",
      "Epoch 41/50\n",
      "53/53 [==============================] - 13s 233ms/step - loss: 0.1042 - accuracy: 0.9617 - val_loss: 0.5323 - val_accuracy: 0.8710\n",
      "Epoch 42/50\n",
      "53/53 [==============================] - 12s 231ms/step - loss: 0.1081 - accuracy: 0.9605 - val_loss: 0.3839 - val_accuracy: 0.8905\n",
      "Epoch 43/50\n",
      "53/53 [==============================] - 12s 232ms/step - loss: 0.0920 - accuracy: 0.9680 - val_loss: 0.5328 - val_accuracy: 0.8662\n",
      "Epoch 44/50\n",
      "53/53 [==============================] - 13s 233ms/step - loss: 0.1039 - accuracy: 0.9609 - val_loss: 0.4079 - val_accuracy: 0.8905\n",
      "Epoch 45/50\n",
      "53/53 [==============================] - 12s 227ms/step - loss: 0.1114 - accuracy: 0.9605 - val_loss: 0.7421 - val_accuracy: 0.8224\n",
      "Epoch 46/50\n",
      "53/53 [==============================] - 12s 228ms/step - loss: 0.0877 - accuracy: 0.9688 - val_loss: 0.5582 - val_accuracy: 0.8735\n",
      "Epoch 47/50\n",
      "53/53 [==============================] - 12s 227ms/step - loss: 0.0933 - accuracy: 0.9664 - val_loss: 0.5523 - val_accuracy: 0.8881\n",
      "Epoch 48/50\n",
      "53/53 [==============================] - 12s 225ms/step - loss: 0.0880 - accuracy: 0.9672 - val_loss: 0.6000 - val_accuracy: 0.8443\n",
      "Epoch 49/50\n",
      "53/53 [==============================] - 12s 229ms/step - loss: 0.0879 - accuracy: 0.9664 - val_loss: 0.4370 - val_accuracy: 0.9002\n",
      "Epoch 50/50\n",
      "53/53 [==============================] - 12s 227ms/step - loss: 0.0891 - accuracy: 0.9648 - val_loss: 0.5777 - val_accuracy: 0.8710\n"
     ]
    }
   ],
   "source": [
    "history = model.fit(train_ds,\n",
    "                    epochs=initial_epochs,\n",
    "                    validation_data=val_ds)"
   ]
  },
  {
   "cell_type": "code",
   "execution_count": 1319,
   "id": "02ad1638",
   "metadata": {},
   "outputs": [
    {
     "data": {
      "image/png": "[encoded data removed]",
      "text/plain": [
       "<Figure size 576x576 with 2 Axes>"
      ]
     },
     "metadata": {
      "needs_background": "light"
     },
     "output_type": "display_data"
    }
   ],
   "source": [
    "acc = history.history['accuracy']\n",
    "val_acc = history.history['val_accuracy']\n",
    "\n",
    "loss = history.history['loss']\n",
    "val_loss = history.history['val_loss']\n",
    "\n",
    "plt.figure(figsize=(8, 8))\n",
    "plt.subplot(2, 1, 1)\n",
    "plt.plot(acc, label='Training Accuracy')\n",
    "plt.plot(val_acc, label='Validation Accuracy')\n",
    "plt.legend(loc='lower right')\n",
    "plt.ylabel('Accuracy')\n",
    "plt.ylim([min(plt.ylim()),1])\n",
    "plt.title('Training and Validation Accuracy')\n",
    "\n",
    "plt.subplot(2, 1, 2)\n",
    "plt.plot(loss, label='Training Loss')\n",
    "plt.plot(val_loss, label='Validation Loss')\n",
    "plt.legend(loc='upper right')\n",
    "plt.ylabel('Cross Entropy')\n",
    "plt.ylim([0,3.0])\n",
    "plt.title('Training and Validation Loss')\n",
    "plt.xlabel('epoch')\n",
    "plt.savefig('plots/da_ft_history_mel_' + str(mel_test_num) + '_gen_' + str(mel_gen_num) + '.pdf')"
   ]
  },
  {
   "cell_type": "code",
   "execution_count": 1320,
   "id": "3a75c956",
   "metadata": {},
   "outputs": [],
   "source": [
    "plt.show()"
   ]
  },
  {
   "cell_type": "code",
   "execution_count": 1321,
   "id": "6c7c1652",
   "metadata": {},
   "outputs": [],
   "source": [
    "with open('history/da_ft_history_mel_' + str(mel_test_num) + '_gen_' + str(mel_gen_num) + '.json', 'w') as f:\n",
    "        json.dump(history.history, f, indent=4)"
   ]
  },
  {
   "cell_type": "markdown",
   "id": "fa66b356",
   "metadata": {},
   "source": [
    "### Evaluation, Test Set"
   ]
  },
  {
   "cell_type": "code",
   "execution_count": 1322,
   "id": "96632295",
   "metadata": {},
   "outputs": [],
   "source": [
    "test_list = list(test_ds)"
   ]
  },
  {
   "cell_type": "code",
   "execution_count": 1323,
   "id": "3382857a",
   "metadata": {},
   "outputs": [],
   "source": [
    "preds = []\n",
    "labels = []\n",
    "\n",
    "for batch_num in range(len(test_list)):\n",
    "    image_batch, label_batch = test_list[batch_num]\n",
    "    image_batch = image_batch.numpy()\n",
    "    label_batch = label_batch.numpy()\n",
    "    this_pred = model.predict_on_batch(image_batch)\n",
    "    this_classes = np.argmax(this_pred, axis=1)\n",
    "    \n",
    "    pred = tf.keras.utils.to_categorical(this_classes, num_classes=4)\n",
    "    \n",
    "    y_test_non_category = [ np.argmax(t) for t in label_batch ]\n",
    "    y_predict_non_category = [ np.argmax(t) for t in pred ]\n",
    "    \n",
    "    labels.extend(y_test_non_category)\n",
    "    preds.extend(y_predict_non_category)"
   ]
  },
  {
   "cell_type": "code",
   "execution_count": 1324,
   "id": "f265b0e3",
   "metadata": {},
   "outputs": [],
   "source": [
    "label_names = sorted(os.listdir(ham_dataset_dir))"
   ]
  },
  {
   "cell_type": "code",
   "execution_count": 1325,
   "id": "b0664c1a",
   "metadata": {},
   "outputs": [
    {
     "data": {
      "image/png": "[encoded data removed]",
      "text/plain": [
       "<Figure size 432x288 with 2 Axes>"
      ]
     },
     "metadata": {
      "needs_background": "light"
     },
     "output_type": "display_data"
    }
   ],
   "source": [
    "from sklearn.metrics import confusion_matrix, ConfusionMatrixDisplay\n",
    "conf_mat = confusion_matrix(labels, preds)\n",
    "\n",
    "disp = ConfusionMatrixDisplay(confusion_matrix=conf_mat, display_labels=label_names)\n",
    "disp.plot()\n",
    "plt.savefig('plots/da_ft_confmat_mel_' + str(mel_test_num) + '_gen_' + str(mel_gen_num) + '.pdf')"
   ]
  },
  {
   "cell_type": "code",
   "execution_count": 1326,
   "id": "92b8717a",
   "metadata": {},
   "outputs": [],
   "source": [
    "plt.show()"
   ]
  },
  {
   "cell_type": "code",
   "execution_count": 1327,
   "id": "10ed347b",
   "metadata": {},
   "outputs": [
    {
     "name": "stdout",
     "output_type": "stream",
     "text": [
      "Model tested on a total of 432 images\n"
     ]
    }
   ],
   "source": [
    "print(\"Model tested on a total of {} images\".format(len(labels)))"
   ]
  },
  {
   "cell_type": "markdown",
   "id": "b99a455c",
   "metadata": {},
   "source": [
    "### Precision Recall Metrics"
   ]
  },
  {
   "cell_type": "code",
   "execution_count": 1328,
   "id": "ca2ad99a",
   "metadata": {},
   "outputs": [],
   "source": [
    "from sklearn.metrics import accuracy_score, precision_score, recall_score, f1_score"
   ]
  },
  {
   "cell_type": "code",
   "execution_count": 1329,
   "id": "f78eed5b",
   "metadata": {},
   "outputs": [
    {
     "name": "stdout",
     "output_type": "stream",
     "text": [
      "\n",
      "Accuracy: 0.87\n",
      "\n",
      "Micro Precision: 0.87\n",
      "Micro Recall: 0.87\n",
      "Micro F1-score: 0.87\n",
      "\n",
      "Macro Precision: 0.87\n",
      "Macro Recall: 0.83\n",
      "Macro F1-score: 0.84\n",
      "\n",
      "Weighted Precision: 0.88\n",
      "Weighted Recall: 0.87\n",
      "Weighted F1-score: 0.87\n",
      "\n",
      "Classification Report\n",
      "\n",
      "              precision    recall  f1-score   support\n",
      "\n",
      "         bcc       0.97      0.69      0.81        81\n",
      "         bkl       0.79      0.96      0.87       171\n",
      "         mel       0.76      0.81      0.79        27\n",
      "          nv       0.96      0.87      0.91       153\n",
      "\n",
      "    accuracy                           0.87       432\n",
      "   macro avg       0.87      0.83      0.84       432\n",
      "weighted avg       0.88      0.87      0.87       432\n",
      "\n"
     ]
    }
   ],
   "source": [
    "print('\\nAccuracy: {:.2f}\\n'.format(accuracy_score(labels, preds)))\n",
    "\n",
    "print('Micro Precision: {:.2f}'.format(precision_score(labels, preds, average='micro')))\n",
    "print('Micro Recall: {:.2f}'.format(recall_score(labels, preds, average='micro')))\n",
    "print('Micro F1-score: {:.2f}\\n'.format(f1_score(labels, preds, average='micro')))\n",
    "\n",
    "print('Macro Precision: {:.2f}'.format(precision_score(labels, preds, average='macro')))\n",
    "print('Macro Recall: {:.2f}'.format(recall_score(labels, preds, average='macro')))\n",
    "print('Macro F1-score: {:.2f}\\n'.format(f1_score(labels, preds, average='macro')))\n",
    "\n",
    "print('Weighted Precision: {:.2f}'.format(precision_score(labels, preds, average='weighted')))\n",
    "print('Weighted Recall: {:.2f}'.format(recall_score(labels, preds, average='weighted')))\n",
    "print('Weighted F1-score: {:.2f}'.format(f1_score(labels, preds, average='weighted')))\n",
    "\n",
    "from sklearn.metrics import classification_report\n",
    "print('\\nClassification Report\\n')\n",
    "print(classification_report(labels, preds, target_names=label_names))"
   ]
  },
  {
   "cell_type": "code",
   "execution_count": 1330,
   "id": "a0a50b75",
   "metadata": {},
   "outputs": [],
   "source": [
    "report_dict = classification_report(labels, preds, target_names=label_names, output_dict=True)\n",
    "report_data = pd.DataFrame(report_dict)\n",
    "report_data.to_csv('reports/da_ft_report_mel_'+ str(mel_test_num) + '_gen_' + str(mel_gen_num) + '.csv')"
   ]
  },
  {
   "cell_type": "code",
   "execution_count": 1331,
   "id": "b0eeda08",
   "metadata": {},
   "outputs": [],
   "source": [
    "report = pd.read_csv('reports/da_ft_report_mel_'+ str(mel_test_num) + '_gen_' + str(mel_gen_num) + '.csv')"
   ]
  },
  {
   "cell_type": "code",
   "execution_count": 1332,
   "id": "350b492f",
   "metadata": {},
   "outputs": [
    {
     "name": "stdout",
     "output_type": "stream",
     "text": [
      "  Unnamed: 0        bcc         bkl        mel          nv  accuracy  \\\n",
      "0  precision   0.965517    0.792271   0.758621    0.963768  0.868056   \n",
      "1     recall   0.691358    0.959064   0.814815    0.869281  0.868056   \n",
      "2   f1-score   0.805755    0.867725   0.785714    0.914089  0.868056   \n",
      "3    support  81.000000  171.000000  27.000000  153.000000  0.868056   \n",
      "\n",
      "    macro avg  weighted avg  \n",
      "0    0.870044      0.883390  \n",
      "1    0.833630      0.868056  \n",
      "2    0.843321      0.867401  \n",
      "3  432.000000    432.000000  \n"
     ]
    }
   ],
   "source": [
    "print(report)"
   ]
  },
  {
   "cell_type": "code",
   "execution_count": 1333,
   "id": "1cf299a1",
   "metadata": {},
   "outputs": [],
   "source": [
    "report200_0 = pd.read_csv('reports/da_ft_report_mel_200_gen_0.csv')\n",
    "report200_100 = pd.read_csv('reports/da_ft_report_mel_200_gen_100.csv')\n",
    "report200_200 = pd.read_csv('reports/da_ft_report_mel_200_gen_200.csv')\n",
    "report200_300 = pd.read_csv('reports/da_ft_report_mel_200_gen_300.csv')\n",
    "report200_400 = pd.read_csv('reports/da_ft_report_mel_200_gen_400.csv')\n",
    "report200_500 = pd.read_csv('reports/da_ft_report_mel_200_gen_500.csv')\n",
    "report200_600 = pd.read_csv('reports/da_ft_report_mel_200_gen_600.csv')\n",
    "report200_700 = pd.read_csv('reports/da_ft_report_mel_200_gen_700.csv')\n",
    "report200_800 = pd.read_csv('reports/da_ft_report_mel_200_gen_800.csv')"
   ]
  },
  {
   "cell_type": "code",
   "execution_count": 1334,
   "id": "9886102b",
   "metadata": {},
   "outputs": [
    {
     "name": "stdout",
     "output_type": "stream",
     "text": [
      "  Unnamed: 0        bcc         bkl        mel          nv  accuracy  \\\n",
      "0  precision   0.914286    0.784314   0.421053    0.913669  0.831019   \n",
      "1     recall   0.790123    0.935673   0.296296    0.830065  0.831019   \n",
      "2   f1-score   0.847682    0.853333   0.347826    0.869863  0.831019   \n",
      "3    support  81.000000  171.000000  27.000000  153.000000  0.831019   \n",
      "\n",
      "    macro avg  weighted avg  \n",
      "0    0.758330      0.831793  \n",
      "1    0.713039      0.831019  \n",
      "2    0.729676      0.826534  \n",
      "3  432.000000    432.000000  \n"
     ]
    }
   ],
   "source": [
    "print(report200_0)"
   ]
  },
  {
   "cell_type": "code",
   "execution_count": 1335,
   "id": "41b2e940",
   "metadata": {},
   "outputs": [
    {
     "name": "stdout",
     "output_type": "stream",
     "text": [
      "  Unnamed: 0        bcc         bkl        mel          nv  accuracy  \\\n",
      "0  precision   0.885714    0.893082   0.333333    0.962687  0.824074   \n",
      "1     recall   0.765432    0.830409   0.851852    0.843137  0.824074   \n",
      "2   f1-score   0.821192    0.860606   0.479167    0.898955  0.824074   \n",
      "3    support  81.000000  171.000000  27.000000  153.000000  0.824074   \n",
      "\n",
      "    macro avg  weighted avg  \n",
      "0    0.768704      0.881368  \n",
      "1    0.822708      0.824074  \n",
      "2    0.764980      0.842958  \n",
      "3  432.000000    432.000000  \n"
     ]
    }
   ],
   "source": [
    "print(report200_100)"
   ]
  },
  {
   "cell_type": "code",
   "execution_count": 1336,
   "id": "e04ce796",
   "metadata": {},
   "outputs": [
    {
     "name": "stdout",
     "output_type": "stream",
     "text": [
      "  Unnamed: 0        bcc         bkl        mel          nv  accuracy  \\\n",
      "0  precision   0.911765    0.834225   0.628571    0.950704  0.868056   \n",
      "1     recall   0.765432    0.912281   0.814815    0.882353  0.868056   \n",
      "2   f1-score   0.832215    0.871508   0.709677    0.915254  0.868056   \n",
      "3    support  81.000000  171.000000  27.000000  153.000000  0.868056   \n",
      "\n",
      "    macro avg  weighted avg  \n",
      "0    0.831316      0.877163  \n",
      "1    0.843720      0.868056  \n",
      "2    0.832164      0.869520  \n",
      "3  432.000000    432.000000  \n"
     ]
    }
   ],
   "source": [
    "print(report200_200)"
   ]
  },
  {
   "cell_type": "code",
   "execution_count": 1337,
   "id": "d9843f65",
   "metadata": {},
   "outputs": [
    {
     "name": "stdout",
     "output_type": "stream",
     "text": [
      "  Unnamed: 0        bcc         bkl        mel          nv  accuracy  \\\n",
      "0  precision   0.950820    0.821990   0.700000    0.906250  0.865741   \n",
      "1     recall   0.716049    0.918129   0.518519    0.947712  0.865741   \n",
      "2   f1-score   0.816901    0.867403   0.595745    0.926518  0.865741   \n",
      "3    support  81.000000  171.000000  27.000000  153.000000  0.865741   \n",
      "\n",
      "    macro avg  weighted avg  \n",
      "0    0.844765      0.868363  \n",
      "1    0.775102      0.865741  \n",
      "2    0.801642      0.861892  \n",
      "3  432.000000    432.000000  \n"
     ]
    }
   ],
   "source": [
    "print(report200_300)"
   ]
  },
  {
   "cell_type": "code",
   "execution_count": 1338,
   "id": "f561fbdb",
   "metadata": {},
   "outputs": [
    {
     "name": "stdout",
     "output_type": "stream",
     "text": [
      "  Unnamed: 0        bcc         bkl        mel          nv  accuracy  \\\n",
      "0  precision   0.909091    0.905882   0.750000    0.919255  0.902778   \n",
      "1     recall   0.864198    0.900585   0.666667    0.967320  0.902778   \n",
      "2   f1-score   0.886076    0.903226   0.705882    0.942675  0.902778   \n",
      "3    support  81.000000  171.000000  27.000000  153.000000  0.902778   \n",
      "\n",
      "    macro avg  weighted avg  \n",
      "0    0.871057      0.901477  \n",
      "1    0.849692      0.902778  \n",
      "2    0.859465      0.901648  \n",
      "3  432.000000    432.000000  \n"
     ]
    }
   ],
   "source": [
    "print(report200_400)"
   ]
  },
  {
   "cell_type": "code",
   "execution_count": 1339,
   "id": "ffe01f21",
   "metadata": {},
   "outputs": [
    {
     "name": "stdout",
     "output_type": "stream",
     "text": [
      "  Unnamed: 0        bcc         bkl        mel          nv  accuracy  \\\n",
      "0  precision   0.941176    0.754717   0.666667    0.925676  0.831019   \n",
      "1     recall   0.592593    0.935673   0.518519    0.895425  0.831019   \n",
      "2   f1-score   0.727273    0.835509   0.583333    0.910299  0.831019   \n",
      "3    support  81.000000  171.000000  27.000000  153.000000  0.831019   \n",
      "\n",
      "    macro avg  weighted avg  \n",
      "0    0.822059      0.844723  \n",
      "1    0.735552      0.831019  \n",
      "2    0.764104      0.825942  \n",
      "3  432.000000    432.000000  \n"
     ]
    }
   ],
   "source": [
    "print(report200_500)"
   ]
  },
  {
   "cell_type": "code",
   "execution_count": 1340,
   "id": "9c0905cc",
   "metadata": {},
   "outputs": [
    {
     "name": "stdout",
     "output_type": "stream",
     "text": [
      "  Unnamed: 0        bcc         bkl        mel          nv  accuracy  \\\n",
      "0  precision   0.936508    0.865922   0.657143    0.916129  0.877315   \n",
      "1     recall   0.728395    0.906433   0.851852    0.928105  0.877315   \n",
      "2   f1-score   0.819444    0.885714   0.741935    0.922078  0.877315   \n",
      "3    support  81.000000  171.000000  27.000000  153.000000  0.877315   \n",
      "\n",
      "    macro avg  weighted avg  \n",
      "0    0.843925      0.883890  \n",
      "1    0.853696      0.877315  \n",
      "2    0.842293      0.877181  \n",
      "3  432.000000    432.000000  \n"
     ]
    }
   ],
   "source": [
    "print(report200_600)"
   ]
  },
  {
   "cell_type": "code",
   "execution_count": 1341,
   "id": "eeb507a0",
   "metadata": {},
   "outputs": [
    {
     "name": "stdout",
     "output_type": "stream",
     "text": [
      "  Unnamed: 0        bcc         bkl        mel          nv  accuracy  \\\n",
      "0  precision   0.960784    0.817259   0.617647    0.940000  0.861111   \n",
      "1     recall   0.604938    0.941520   0.777778    0.921569  0.861111   \n",
      "2   f1-score   0.742424    0.875000   0.688525    0.930693  0.861111   \n",
      "3    support  81.000000  171.000000  27.000000  153.000000  0.861111   \n",
      "\n",
      "    macro avg  weighted avg  \n",
      "0    0.833923      0.875165  \n",
      "1    0.811451      0.861111  \n",
      "2    0.809160      0.858212  \n",
      "3  432.000000    432.000000  \n"
     ]
    }
   ],
   "source": [
    "print(report200_700)"
   ]
  },
  {
   "cell_type": "code",
   "execution_count": 1342,
   "id": "d6e71e54",
   "metadata": {},
   "outputs": [
    {
     "name": "stdout",
     "output_type": "stream",
     "text": [
      "  Unnamed: 0        bcc         bkl        mel          nv  accuracy  \\\n",
      "0  precision   0.965517    0.792271   0.758621    0.963768  0.868056   \n",
      "1     recall   0.691358    0.959064   0.814815    0.869281  0.868056   \n",
      "2   f1-score   0.805755    0.867725   0.785714    0.914089  0.868056   \n",
      "3    support  81.000000  171.000000  27.000000  153.000000  0.868056   \n",
      "\n",
      "    macro avg  weighted avg  \n",
      "0    0.870044      0.883390  \n",
      "1    0.833630      0.868056  \n",
      "2    0.843321      0.867401  \n",
      "3  432.000000    432.000000  \n"
     ]
    }
   ],
   "source": [
    "print(report200_800)"
   ]
  },
  {
   "cell_type": "code",
   "execution_count": null,
   "id": "15ea3db5",
   "metadata": {},
   "outputs": [],
   "source": []
  },
  {
   "cell_type": "code",
   "execution_count": null,
   "id": "0a73ae17",
   "metadata": {},
   "outputs": [],
   "source": []
  }
 ],
 "metadata": {
  "kernelspec": {
   "display_name": "Python 3",
   "language": "python",
   "name": "python3"
  },
  "language_info": {
   "codemirror_mode": {
    "name": "ipython",
    "version": 3
   },
   "file_extension": ".py",
   "mimetype": "text/x-python",
   "name": "python",
   "nbconvert_exporter": "python",
   "pygments_lexer": "ipython3",
   "version": "3.9.7"
  }
 },
 "nbformat": 4,
 "nbformat_minor": 5
}
